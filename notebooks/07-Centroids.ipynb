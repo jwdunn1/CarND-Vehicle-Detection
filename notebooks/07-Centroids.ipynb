{
 "cells": [
  {
   "cell_type": "markdown",
   "metadata": {},
   "source": [
    "# Centroids version"
   ]
  },
  {
   "cell_type": "code",
   "execution_count": 1,
   "metadata": {
    "collapsed": true
   },
   "outputs": [],
   "source": [
    "import matplotlib.image as mpimg\n",
    "import matplotlib.pyplot as plt\n",
    "import numpy as np\n",
    "import cv2\n",
    "import glob\n",
    "import time\n",
    "from skimage.feature import local_binary_pattern\n",
    "#from skimage.feature import hog\n"
   ]
  },
  {
   "cell_type": "code",
   "execution_count": 2,
   "metadata": {
    "collapsed": true
   },
   "outputs": [],
   "source": [
    "# Metaparameters\n",
    "colorspace= 'YCrCb' # Can be RGB, HSV, LUV, HLS, YUV, YCrCb\n",
    "orient= 12\n",
    "pix_per_cell= 4\n",
    "cell_per_block= 1 #2\n",
    "hog_channel= 'ALL' # Can be 0, 1, 2, or \"ALL\"\n"
   ]
  },
  {
   "cell_type": "code",
   "execution_count": 3,
   "metadata": {
    "collapsed": true
   },
   "outputs": [],
   "source": [
    "# Customized re-implementation of HOG, based on OpenCV and scikit-image versions\n",
    "def histoGrad(img, binCount=12, cellSize=4):\n",
    "    gx,gy= cv2.Sobel(img,cv2.CV_32F,1,0), cv2.Sobel(img,cv2.CV_32F,0,1) # gradients in x and y direction\n",
    "    magnitude,angle= cv2.cartToPolar(gx,gy)\n",
    "    bins= np.int32(binCount*angle*(1-1e-7)/(2*np.pi)) #scale back angle to avoid overbinning\n",
    "    binCells,magCells= [],[]\n",
    "    cx= cy= cellSize\n",
    "    for i in range(0,int(img.shape[0]/cy)): # sort into bins\n",
    "        for j in range(0,int(img.shape[1]/cx)):\n",
    "            binCells.append(bins[i*cy:i*cy+cy, j*cx:j*cx+cx])\n",
    "            magCells.append(magnitude[i*cy:i*cy+cy, j*cx:j*cx+cx])\n",
    "    hist= np.hstack([np.bincount(i.ravel(), j.ravel(), binCount) for i,j in zip(binCells, magCells)])\n",
    "    return np.sqrt(hist/(hist.sum()+1e-8)) # apply Hellinger kernel (L1-normalize and sqrt)"
   ]
  },
  {
   "cell_type": "code",
   "execution_count": 4,
   "metadata": {
    "collapsed": true
   },
   "outputs": [],
   "source": [
    "# Define a function to return HOG features\n",
    "def get_hog_features(img, orient, pix_per_cell):\n",
    "    features= histoGrad( img, orient, pix_per_cell )\n",
    "    return features.reshape((192,))\n",
    "\n",
    "# Define a function to return LBP features\n",
    "def get_lpb_features(img):\n",
    "    lbp= np.ravel(local_binary_pattern(img, 16, 2, method='uniform'))\n",
    "    #print(lbp.shape)\n",
    "    return lbp\n",
    "\n"
   ]
  },
  {
   "cell_type": "code",
   "execution_count": 5,
   "metadata": {
    "collapsed": false
   },
   "outputs": [
    {
     "name": "stdout",
     "output_type": "stream",
     "text": [
      "Step complete.\n"
     ]
    }
   ],
   "source": [
    "#from sklearn.svm import LinearSVC\n",
    "from sklearn.preprocessing import StandardScaler\n",
    "from sklearn.externals import joblib\n",
    "# NOTE: the next import is only valid for scikit-learn version <= 0.17\n",
    "# for scikit-learn >= 0.18 use:\n",
    "from sklearn.model_selection import train_test_split\n",
    "#from sklearn.cross_validation import train_test_split\n",
    "# Define a function to extract features from a list of images\n",
    "# Have this function call bin_spatial() and color_hist()\n",
    "def extract_features(imgs, cells=True, cspace='RGB', orient=9, \n",
    "                        pix_per_cell=8, cell_per_block=2, hog_channel=0):\n",
    "    # Create a list to append feature vectors to\n",
    "    features= []\n",
    "    # Iterate through the list of images\n",
    "    for file in imgs:\n",
    "        # Read in each one by one\n",
    "        image= mpimg.imread(file)\n",
    "        # apply color conversion if other than 'RGB'\n",
    "        if cspace != 'RGB':\n",
    "            if cspace == 'HSV':\n",
    "                feature_image = cv2.cvtColor(image, cv2.COLOR_RGB2HSV)\n",
    "            elif cspace == 'LUV':\n",
    "                feature_image = cv2.cvtColor(image, cv2.COLOR_RGB2LUV)\n",
    "            elif cspace == 'HLS':\n",
    "                feature_image = cv2.cvtColor(image, cv2.COLOR_RGB2HLS)\n",
    "            elif cspace == 'YUV':\n",
    "                feature_image = cv2.cvtColor(image, cv2.COLOR_RGB2YUV)\n",
    "            elif cspace == 'YCrCb':\n",
    "                feature_image = cv2.cvtColor(image, cv2.COLOR_RGB2YCrCb)\n",
    "        else: feature_image = np.copy(image)\n",
    "        \n",
    "        if cells: # Already sized at 16x16 cells\n",
    "            if hog_channel == 'ALL':\n",
    "                hog_features= []\n",
    "                for channel in range(feature_image.shape[2]):\n",
    "                    #hog_features.append(get_hog_features(feature_image[:,:,channel], \n",
    "                    #                    orient, pix_per_cell, cell_per_block, \n",
    "                    #                    vis=False, feature_vec=True))\n",
    "                    \n",
    "                    # Attempt to train on gradient AND smaller color patch\n",
    "                    hog_features.append(np.concatenate((get_hog_features(feature_image[:,:,channel], orient, pix_per_cell), \n",
    "                        np.ravel(cv2.resize(feature_image[:,:,channel], (4,4), interpolation=3) ) ))) #CV_INTER_AREA\n",
    "                    #hog_features.append(np.concatenate((get_hog_features(feature_image[:,:,channel], \n",
    "                    #                    orient, pix_per_cell, cell_per_block, \n",
    "                    #                    vis=False, feature_vec=True), get_lpb_features(feature_image[:,:,channel]))))\n",
    "                    #hog_features.append(feature_image[:,:,channel])\n",
    "                hog_features= np.ravel(hog_features)        \n",
    "            else:\n",
    "                hog_features= get_hog_features(feature_image[:,:,hog_channel], orient, pix_per_cell)\n",
    "            # Append the new feature vector to the features list\n",
    "            features.append(hog_features)\n",
    "            \n",
    "        else:\n",
    "            #first, slice the 64x64 image into quads by column\n",
    "            quad= []\n",
    "            quad.append(feature_image[:, 0:16,:])\n",
    "            quad.append(feature_image[:,16:32,:])\n",
    "            quad.append(feature_image[:,32:48,:])\n",
    "            quad.append(feature_image[:,48:64,:])\n",
    "            for i in range(4):\n",
    "                #next, slice the quad into cells(16x16) by row\n",
    "                square= []\n",
    "                square.append(quad[i][ 0:16,:,:])\n",
    "                square.append(quad[i][16:32,:,:])\n",
    "                square.append(quad[i][32:48,:,:])\n",
    "                square.append(quad[i][48:64,:,:])\n",
    "                for j in range(4):\n",
    "                    feature_image= square[j]\n",
    "                    # Call get_hog_features() with vis=False, feature_vec=True\n",
    "                    if hog_channel == 'ALL':\n",
    "                        hog_features = []\n",
    "                        for channel in range(feature_image.shape[2]):\n",
    "                            #hog_features.append(get_hog_features(feature_image[:,:,channel], \n",
    "                            #                    orient, pix_per_cell, cell_per_block, \n",
    "                            #                    vis=False, feature_vec=True))\n",
    "                            \n",
    "                            # Attempt to train on gradient AND smaller color patch\n",
    "                            hog_features.append(np.concatenate((get_hog_features(feature_image[:,:,channel], orient, pix_per_cell), \n",
    "                                np.ravel(cv2.resize(feature_image[:,:,channel], (4,4), interpolation=3) ) ))) #CV_INTER_AREA\n",
    "                            #hog_features.append(np.concatenate((get_hog_features(feature_image[:,:,channel], \n",
    "                            #                    orient, pix_per_cell, cell_per_block, \n",
    "                            #                    vis=False, feature_vec=True), get_lpb_features(feature_image[:,:,channel]))))\n",
    "                            #hog_features.append(feature_image[:,:,channel])\n",
    "                        hog_features = np.ravel(hog_features)        \n",
    "                    else:\n",
    "                        hog_features = get_hog_features(feature_image[:,:,hog_channel], orient, pix_per_cell)\n",
    "                    # Append the new feature vector to the features list\n",
    "                    features.append(hog_features)\n",
    "            del quad, square\n",
    "    # Return list of feature vectors\n",
    "    return features\n",
    "\n",
    "# load filenames of images containing vehicles\n",
    "cars = []\n",
    "vimages = glob.glob('training/vehicles/JWD_vcells/*.png')\n",
    "for image in vimages:\n",
    "    cars.append(image)\n",
    "\n",
    "# load filenames of images containing non-vehicles\n",
    "nimages = glob.glob('training/non-vehicles/Extras/*.png')\n",
    "notcars = []\n",
    "for image in nimages:\n",
    "    notcars.append(image)\n",
    "\n",
    "del vimages, nimages\n",
    "# Reduce the sample size because HOG features are slow to compute\n",
    "#sample_size = 500\n",
    "#cars = cars[0:sample_size]\n",
    "#notcars = notcars[0:sample_size]\n",
    "print('Step complete.')"
   ]
  },
  {
   "cell_type": "code",
   "execution_count": 6,
   "metadata": {
    "collapsed": false
   },
   "outputs": [
    {
     "name": "stdout",
     "output_type": "stream",
     "text": [
      "Extracting cells of cars...\n",
      "Extracting notcars images...\n",
      "Extracting cells of notcars...\n",
      "29.86 Seconds to extract HOG features...\n",
      "(2702, 624) (15488, 624) (3510, 624)\n",
      "Updating scaler.dat\n",
      "Using: 12 orientations 4 pixels per cell and 1 cells per block\n",
      "Feature vector length: 624\n"
     ]
    }
   ],
   "source": [
    "# Load data from files into training arrays\n",
    "t=time.time()\n",
    "print('Extracting cells of cars...')\n",
    "car_features= extract_features(cars, cells=True, cspace=colorspace, orient=orient, \n",
    "                        pix_per_cell=pix_per_cell, cell_per_block=cell_per_block, \n",
    "                        hog_channel=hog_channel)\n",
    "print('Extracting notcars images...')\n",
    "notcar_features= extract_features(notcars, cells=False, cspace=colorspace, orient=orient, \n",
    "                        pix_per_cell=pix_per_cell, cell_per_block=cell_per_block, \n",
    "                        hog_channel=hog_channel)\n",
    "\n",
    "# load additional cells containing non-vehicles\n",
    "nimages= glob.glob('training/non-vehicles/JWD_ncells/*.png')\n",
    "notcars= []\n",
    "for image in nimages:\n",
    "    notcars.append(image)\n",
    "print('Extracting cells of notcars...')\n",
    "notcarcell_features= extract_features(notcars, cells=True, cspace=colorspace, orient=orient, \n",
    "                        pix_per_cell=pix_per_cell, cell_per_block=cell_per_block, \n",
    "                        hog_channel=hog_channel)\n",
    "del nimages\n",
    "\n",
    "t2 = time.time()\n",
    "print(round(t2-t, 2), 'Seconds to extract HOG features...')\n",
    "\n",
    "print(np.array(car_features).shape, np.array(notcar_features).shape, np.array(notcarcell_features).shape)\n",
    "# Create an array stack of feature vectors\n",
    "X= np.vstack((car_features, notcar_features, notcarcell_features)).astype(np.float64)                        \n",
    "# Fit a per-column scaler\n",
    "X_scaler= StandardScaler().fit(X)\n",
    "# Apply the scaler to X\n",
    "scaled_X= X_scaler.transform(X)\n",
    "print('Updating scaler.dat')\n",
    "joblib.dump(X_scaler, 'scalar.dat')  # save for later use by classifier\n",
    "\n",
    "# Define the labels vector\n",
    "y= np.hstack((np.ones(len(car_features)), np.zeros(len(notcar_features)), np.zeros(len(notcarcell_features))))\n",
    "\n",
    "# Split up data into randomized training and test sets\n",
    "rand_state= np.random.randint(0, 100)\n",
    "X_train, X_test, y_train, y_test= train_test_split(\n",
    "    scaled_X, y, test_size=0.1, random_state=rand_state)\n",
    "\n",
    "del scaled_X, y, cars, notcars\n",
    "del car_features, notcar_features, notcarcell_features\n",
    "print('Using:',orient,'orientations',pix_per_cell,\n",
    "    'pixels per cell and', cell_per_block,'cells per block')\n",
    "print('Feature vector length:', len(X_train[0]))\n"
   ]
  },
  {
   "cell_type": "code",
   "execution_count": 152,
   "metadata": {
    "collapsed": false
   },
   "outputs": [
    {
     "name": "stdout",
     "output_type": "stream",
     "text": [
      "590.78 Seconds to train SVC...\n",
      "Test Accuracy of SVC =  0.9549\n",
      "   The SVC predicts:  [ 0.  0.  0.  0.  0.  0.  0.  1.  0.  0.]\n",
      "For these 10 labels:  [ 0.  0.  0.  0.  0.  0.  0.  1.  0.  0.]\n",
      "0.1115 Seconds to predict 10 labels with SVC\n"
     ]
    }
   ],
   "source": [
    "# Define a linear SVC (CPU-based)\n",
    "#svc = LinearSVC()\n",
    "from sklearn import svm\n",
    "svc = svm.SVC(kernel='poly', gamma=2)\n",
    "\n",
    "# Check the training time for the SVC\n",
    "t=time.time()\n",
    "svc.fit(X_train, y_train)\n",
    "t2 = time.time()\n",
    "print(round(t2-t, 2), 'Seconds to train SVC...')\n",
    "# Check the score of the SVC\n",
    "print('Test Accuracy of SVC = ', round(svc.score(X_test, y_test), 4))\n",
    "# Check the prediction time for a single sample\n",
    "t=time.time()\n",
    "n_predict = 10\n",
    "print('   The SVC predicts: ', svc.predict(X_test[0:n_predict]))\n",
    "print('For these',n_predict, 'labels: ', y_test[0:n_predict])\n",
    "t2 = time.time()\n",
    "print(round(t2-t, 5), 'Seconds to predict', n_predict,'labels with SVC')"
   ]
  },
  {
   "cell_type": "code",
   "execution_count": 7,
   "metadata": {
    "collapsed": false
   },
   "outputs": [
    {
     "name": "stderr",
     "output_type": "stream",
     "text": [
      "Using TensorFlow backend.\n"
     ]
    },
    {
     "name": "stdout",
     "output_type": "stream",
     "text": [
      "____________________________________________________________________________________________________\n",
      "Layer (type)                     Output Shape          Param #     Connected to                     \n",
      "====================================================================================================\n",
      "dropout_1 (Dropout)              (None, 624)           0           dropout_input_1[0][0]            \n",
      "____________________________________________________________________________________________________\n",
      "dense_1 (Dense)                  (None, 255)           159375      dropout_1[0][0]                  \n",
      "____________________________________________________________________________________________________\n",
      "dropout_2 (Dropout)              (None, 255)           0           dense_1[0][0]                    \n",
      "____________________________________________________________________________________________________\n",
      "dense_2 (Dense)                  (None, 127)           32512       dropout_2[0][0]                  \n",
      "____________________________________________________________________________________________________\n",
      "dropout_3 (Dropout)              (None, 127)           0           dense_2[0][0]                    \n",
      "____________________________________________________________________________________________________\n",
      "dense_3 (Dense)                  (None, 1)             128         dropout_3[0][0]                  \n",
      "====================================================================================================\n",
      "Total params: 192,015\n",
      "Trainable params: 192,015\n",
      "Non-trainable params: 0\n",
      "____________________________________________________________________________________________________\n"
     ]
    }
   ],
   "source": [
    "# Define a non-linear binary classification model using Keras on TensorFlow\n",
    "\n",
    "#####################################################################################################################\n",
    "from keras.models import Sequential\n",
    "from keras.layers import Dense, Activation, Dropout\n",
    "\n",
    "#model= Sequential([\n",
    "#    Dense(1296, input_dim=len(X_train[0]), init='normal', activation='relu'),\n",
    "#    Dropout(.5),\n",
    "#    Dense(1, init='normal', activation='sigmoid')\n",
    "#])\n",
    "\n",
    "#model= Sequential([\n",
    "#    Dropout(.5, input_shape=(len(X_train[0]),) ),\n",
    "#    Dense(512, init='normal', activation='relu'),\n",
    "#    Dropout(.5),\n",
    "#    Dense(1, init='normal', activation='sigmoid')\n",
    "#])\n",
    "model= Sequential([\n",
    "    Dropout(.5, input_shape=(len(X_train[0]),) ),\n",
    "    Dense(255, init='normal', activation='relu'),\n",
    "    Dropout(.5),\n",
    "    Dense(127, init='normal', activation='relu'),\n",
    "    Dropout(.5),\n",
    "    Dense(1, init='normal', activation='sigmoid')\n",
    "])\n",
    "\n",
    "\n",
    "# binary classification\n",
    "model.compile(optimizer='adam',  #rmsprop\n",
    "              loss='binary_crossentropy',\n",
    "              metrics=['accuracy'])\n",
    "model.summary()"
   ]
  },
  {
   "cell_type": "code",
   "execution_count": 8,
   "metadata": {
    "collapsed": false
   },
   "outputs": [
    {
     "name": "stdout",
     "output_type": "stream",
     "text": [
      "Epoch 1/35\n",
      "7s - loss: 0.2833 - acc: 0.8918\n",
      "Epoch 2/35\n",
      "5s - loss: 0.1920 - acc: 0.9246\n",
      "Epoch 3/35\n",
      "5s - loss: 0.1569 - acc: 0.9414\n",
      "Epoch 4/35\n",
      "4s - loss: 0.1384 - acc: 0.9481\n",
      "Epoch 5/35\n",
      "5s - loss: 0.1270 - acc: 0.9537\n",
      "Epoch 6/35\n",
      "5s - loss: 0.1143 - acc: 0.9589\n",
      "Epoch 7/35\n",
      "5s - loss: 0.1083 - acc: 0.9616\n",
      "Epoch 8/35\n",
      "5s - loss: 0.0959 - acc: 0.9647\n",
      "Epoch 9/35\n",
      "5s - loss: 0.0901 - acc: 0.9672\n",
      "Epoch 10/35\n",
      "4s - loss: 0.0886 - acc: 0.9685\n",
      "Epoch 11/35\n",
      "5s - loss: 0.0838 - acc: 0.9699\n",
      "Epoch 12/35\n",
      "5s - loss: 0.0777 - acc: 0.9727\n",
      "Epoch 13/35\n",
      "4s - loss: 0.0792 - acc: 0.9725\n",
      "Epoch 14/35\n",
      "4s - loss: 0.0748 - acc: 0.9737\n",
      "Epoch 15/35\n",
      "4s - loss: 0.0742 - acc: 0.9740\n",
      "Epoch 16/35\n",
      "4s - loss: 0.0719 - acc: 0.9742\n",
      "Epoch 17/35\n",
      "4s - loss: 0.0692 - acc: 0.9748\n",
      "Epoch 18/35\n",
      "4s - loss: 0.0660 - acc: 0.9769\n",
      "Epoch 19/35\n",
      "4s - loss: 0.0602 - acc: 0.9791\n",
      "Epoch 20/35\n",
      "4s - loss: 0.0672 - acc: 0.9775\n",
      "Epoch 21/35\n",
      "4s - loss: 0.0607 - acc: 0.9782\n",
      "Epoch 22/35\n",
      "4s - loss: 0.0621 - acc: 0.9786\n",
      "Epoch 23/35\n",
      "4s - loss: 0.0619 - acc: 0.9791\n",
      "Epoch 24/35\n",
      "4s - loss: 0.0587 - acc: 0.9785\n",
      "Epoch 25/35\n",
      "4s - loss: 0.0536 - acc: 0.9829\n",
      "Epoch 26/35\n",
      "4s - loss: 0.0573 - acc: 0.9811\n",
      "Epoch 27/35\n",
      "4s - loss: 0.0598 - acc: 0.9799\n",
      "Epoch 28/35\n",
      "4s - loss: 0.0555 - acc: 0.9812\n",
      "Epoch 29/35\n",
      "4s - loss: 0.0564 - acc: 0.9799\n",
      "Epoch 30/35\n",
      "4s - loss: 0.0575 - acc: 0.9811\n",
      "Epoch 31/35\n",
      "4s - loss: 0.0543 - acc: 0.9822\n",
      "Epoch 32/35\n",
      "4s - loss: 0.0495 - acc: 0.9837\n",
      "Epoch 33/35\n",
      "4s - loss: 0.0549 - acc: 0.9814\n",
      "Epoch 34/35\n",
      "4s - loss: 0.0515 - acc: 0.9828\n",
      "Epoch 35/35\n",
      "4s - loss: 0.0514 - acc: 0.9824\n",
      "172.86 Seconds to train Net...\n",
      "2144/2170 [============================>.] - ETA: 0s\b\b\b\b\b\b\b\b\b\b\b\b\b\b\b\b\b\b\b\b\b\b\b\b\b\b\b\b\b\b\b\b\b\b\b\b\b\b\b\b\b\b\b\b\b\b\b\b\b\b\b\b\b\b\b\b\b\b\b\b\b\b\b\b\b\b\b\b\b\b\b\b\b\b\b\b\b\b\b\b\b\b\b\b\b\b\b\b\b\b\b\b\b\b\b\b\b\b\b\b\b\b\b\b\b\b\b\b\b\b\b\b\b\b\b\b\b\b\b\b\b\b\b\b\b\b\b\b\b\b\b\b\b\b\b\b\b\b\b\b\b\b\b\b\b\b\b\b\b\b\b\b\b\b\b\b\b\b\b\b\b\b\b\b\b\b\b\b\b\b\b\b\b\b\b\b\b\b\b\b\b\b\b\b\b\b\b\b\b\b\b\b\b\b\b\b\b\b\b\b\b\b\b\b\b\b\b\b\b\b\b\b\b\b\b\b\b\b\b\b\b\b\b\b\b\b\b\b\b\b\b\b\b\b\b\b\b\b\b\b\b\b\b\b\b\b\b\b\b\b\b\b\b\b\b\b\b\b\b\b\b\b\b\b\b\b\b\b\b\b\b\b\b\b\b\b\b\b\b\b\b\b\b\b\b\b\b\b\b\b\b\b\b\b\b\b\b\b\b\b\b\b\b\b\b\b\b\b\b\b\b\b\b\b\b\b\b\b\b\b\b\b\b\b\b\b\b\b\b\b\b\b\b\b\b\b\b\b\b\b\b\b\b\b\b\b\b\b\b\b\b\b\b\b\b\b\b\b\b\b\b\b\b\b\b\b\b\b\b\b\b\b\b\b\b\b\b\b\b\b\b\b\b\b\b\b\b\b\b\b\b\b\b\b\b\b\b\b\b\b\b\b\b\b\b\b\b\b\b\b\b\b\b\b\b\b\b\b\b\b\b\b\b\b\b\b\b\b\b\b\b\b\b\b\b\b\b\b\b\b\b\b\b\b\b\b\b\b\b\b\b\b\b\b\b\b\b\b\b\b\b\b\b\b\b\b\b\b\b\b\b\b\b\b\b\b\b\b\b\b\b\b\b\b\b\b\b\b\b\b\b\b\b\b\b\b\b\b\b\b\b\b\b\b\b\b\b\b\b\b\b\b\b\b\b\b\b\b\b\b\b\b\b\b\b\b\b\b\b\b\b\b\b\b\b\b\b\b\b\b\b\b\b\b\b\b\b\b\b\b\b\b\b\b\b\b\b\b\b\b\b\b\b\b\b\b\b\b\b\b\b\b\b\b\b\b\b\b\b\b\b\b\b\b\b\b\b\b\b\b\b\b\b\b\b\b\b\b\b\b\b\b\b\b\b\b\b\b\b\b\b\b\b\b\b\b\b\b\b\b\b\b\b\b\b\b\b\b\b\b\b\b\b\b\b\b\b\b\b\b\b\b\b\b\b\b\b\b\b\b\b\b\b\b\b\b\b\b\b\b\b\b\b\b\b\b\b\b\b\b\b\b\b\b\b\b\b\b\b\b\b\b\b\b\b\b\b\b\b\b\b\b\b\b\b\b\b\b\b\b\b\b\b\b\b\b\b\b\b\b\b\b\b\b\b\b\b\b\b\b\b\b\b\b\b\b\b\b\b\b\b\b\b\b\b\b\b\b\b\b\b\b\b\b\b\b\b\b\b\b\b\b\b\b\b\b\b\b\b\b\b\b\b\b\b\b\b\b\b\b\b\b\b\b\b\b\b\b\b\b\b\b\b\b\b\b\b\b\b\b\b\b\b\b\b\b\b\b\b\b\b\b\b\b\b\b\b\b\b\b\b\b\b\b\b\b\b\b\b\b\b\b\b\b\b\b\b\b\b\b\b\b\b\b\b\b\b\b\b\b\b\b\b\b\b\b\b\b\b\b\b\b\b\b\b\b\b\b\b\b\b\b\b\b\b\b\b\b\b\b\b\b\b\b\b\b\b\b\b\b\b\b\b\b\b\b\b\b\b\b\b\b\b\b\b\b\b\b\b\b\b\b\b\b\b\b\b\b\b\b\b\b\b\b\b\b\b\b\b\b\b\b\b\b\b\b\b\b\b\b\b\b\b\b\b\b\b\b\b\b\b\b\b\b\b\b\b\b\b\b\b\b\b\b\b\b\b\b\b\b\b\b\b\b\b\b\b\b\b\b\b\b\b\b\b\b\b\b\b\b\b\b\b\b\b\b\b\b\b\b\b\b\b\b\b\b\b\b\b\b\b\b\b\b\b\b\b\b\b\b\b\b\b\b\b\b\b\b\b\b\b\b\b\b\b\b\b\b\b\b\b\b\b\b\b\b\b\b\b\b\b\b\b\b\b\b\b\b\b\b\b\b\b\b\b\b\b\b\b\b\b\b\b\b\b\b\b\b\b\b\b\b\b\b\b\b\b\b\b\b\b\b\b\b\b\b\b\b\b\b\b\b\b\b\b\b\b\b\b\b\b\b\b\b\b\b\b\b\b\b\b\b\b\b\b\b\b\b\b\b\b\b\b\b\b\b\b\b\b\b\b\b\b\b\b\b\b\b\b\b\b\b\b\b\b\b\b\b\b\b\b\b\b\b\b\b\b\b\b\b\b\b\b\b\b\b\b\b\b\b\b\b\b\b\b\b\b\b\b\b\b\b\b\b\b\b\b\b\b\b\b\b\b\b\b\b\b\b\b\b\b\b\b\b\b\b\b\b\b\b\b\b\b\b\b\b\b\b\b\b\b\b\b\b\b\b\b\b\b\b\b\b\b\b\b\b\b\b\b\b\b\b\b\b\b\b\b\b\b\b\b\b\b\b\b\b\b\b\b\b\b\b\b\b\b\b\b\b\b\b\b\b\b\b\b\b\b\b\b\b\b\b\b\b\b\b\b\b\b\b\b\b\b\b\b\b\b\b\b\b\b\b\b\b\b\b\b\b\b\b\b\b\b\b\b\b\b\b\b\b\b\b\b\b\b\b\b\b\b\b\b\b\b\b\b\b\b\b\b\b\b\b\b\b\b\b\b\b\b\b\b\b\b\b\b\b\b\b\b\b\b\b\b\b\b\b\b\b\b\b\b\b\b\b\b\b\b\b\b\b\b\b\b\b\b\b\b\b\b\b\b\b\b\b\b\b\b\b\b\b\b\b\b\b\b\b\b\b\b\b\b\b\b\b\b\b\b\b\b\b\b\b\b\b\b\b\b\b\b\b\b\b\b\b\b\b\b\b\b\b\b\b\b\b\b\b\b\b\b\b\b\b\b\b\b\b\b\b\b\b\b\b\b\b\b\b\b\b\b\b\b\b\b\b\b\b\b\b\b\b\b\b\b\b\b\b\b\b\b\b\b\b\b\b\b\b\b\b\b\b\b\b\b\b\b\b\b\b\b\b\b\b\b\b\b\b\b\b\b\b\b\b\b\b\b\b\b\b\b\b\b\b\b\b\b\b\b\b\b\b\b\b\b\b\b\b\b\b\b\b\b\b\b\b\b\b\b\b\b\b\b\b\b\b\b\b\b\b\b\b\b\b\b\b\b\b\b\b\b\b\b\b\b\b\b\b\b\b\b\b\b\b\b\b\b\b\b\b\b\b\b\b\b\b\b\b\b\b\b\b\b\b\b\b\b\b\b\b\b\b\b\b\b\b\b\b\b\b\b\b\b\b\b\b\b\b\b\b\b\b\b\b\b\b\b\b\b\b\b\b\b\b\b\b\b\b\b\b\b\b\b\b\b\b1632/2170 [=====================>........] - ETA: 0s\b\b\b\b\b\b\b\b\b\b\b\b\b\b\b\b\b\b\b\b\b\b\b\b\b\b\b\b\b\b\b\b\b\b\b\b\b\b\b\b\b\b\b\b\b\b\b\b\b\b\b\b\b\b\b\b\b\b\b\b\b\b\b\b\b\b\b\b\b\b\b\b\b\b\b\b\b\b\b\b\b\b\b\b\b\b\b\b\b\b\b\b\b\b\b\b\b\b\b\b\b\b\b\b\b\b\b\b\b\b\b\b\b\b\b\b\b\b\b\b\b\b\b\b\b\b\b\b\b\b\b\b\b\b\b\b\b\b\b\b\b\b\b\b\b\b\b\b\b\b\b\b\b\b\b\b\b\b\b\b\b\b\b\b\b\b\b\b\b\b\b\b\b\b\b\b\b\b\b\b\b\b\b\b\b\b\b\b\b\b\b\b\b\b\b\b\b\b\b\b\b\b\b\b\b\b\b\b\b\b\b\b\b\b\b\b\b\b\b\b\b\b\b\b\b\b\b\b\b\b\b\b\b\b\b\b\b\b\b\b\b\b\b\b\b\b\b\b\b\b\b\b\b\b\b\b\b\b\b\b\b\b\b\b\b\b\b\b\b\b\b\b\b\b\b\b\b\b\b\b\b\b\b\b\b\b\b\b\b\b\b\b\b\b\b\b\b\b\b\b\b\b\b\b\b\b\b\b\b\b\b\b\b\b\b\b\b\b\b\b\b\b\b\b\b\b\b\b\b\b\b\b\b\b\b\b\b\b\b\b\b\b\b\b\b\b\b\b\b\b\b\b\b\b\b\b\b\b\b\b\b\b\b\b\b\b\b\b\b\b\b\b\b\b\b\b\b\b\b\b\b\b\b\b\b\b\b\b\b\b\b\b\b\b\b\b\b\b\b\b\b\b\b\b\b\b\b\b\b\b\b\b\b\b\b\b\b\b\b\b\b\b\b\b\b\b\b\b\b\b\b\b\b\b\b\b\b\b\b\b\b\b\b\b\b\b\b\b\b\b\b\b\b\b\b\b\b\b\b\b\b\b\b\b\b\b\b\b\b\b\b\b\b\b\b\b\b\b\b\b\b\b\b\b\b\b\b\b\b\b\b\b\b\b\b\b\b\b\b\b\b\b\b\b\b\b\b\b\b\b\b\b\b\b\b\b\b\b\b\bTest Accuracy of Net =  0.9922\n"
     ]
    }
   ],
   "source": [
    "# Check the training time for the GPU-based model\n",
    "t=time.time()\n",
    "model.fit(X_train, y_train, nb_epoch=35, batch_size=32, shuffle=True, verbose=2)\n",
    "t2 = time.time()\n",
    "\n",
    "print(round(t2-t, 2), 'Seconds to train Net...')\n",
    "# Check the score of the Net\n",
    "print('Test Accuracy of Net = ', round(model.evaluate(X_test, y_test, batch_size=16)[1], 4))\n"
   ]
  },
  {
   "cell_type": "code",
   "execution_count": 13,
   "metadata": {
    "collapsed": false
   },
   "outputs": [
    {
     "name": "stdout",
     "output_type": "stream",
     "text": [
      "Epoch 1/14\n",
      "4s - loss: 0.0448 - acc: 0.9856\n",
      "Epoch 2/14\n",
      "4s - loss: 0.0427 - acc: 0.9874\n",
      "Epoch 3/14\n",
      "4s - loss: 0.0423 - acc: 0.9857\n",
      "Epoch 4/14\n",
      "4s - loss: 0.0396 - acc: 0.9870\n",
      "Epoch 5/14\n",
      "5s - loss: 0.0384 - acc: 0.9869\n",
      "Epoch 6/14\n",
      "5s - loss: 0.0370 - acc: 0.9882\n",
      "Epoch 7/14\n",
      "4s - loss: 0.0429 - acc: 0.9864\n",
      "Epoch 8/14\n",
      "4s - loss: 0.0416 - acc: 0.9867\n",
      "Epoch 9/14\n",
      "4s - loss: 0.0373 - acc: 0.9874\n",
      "Epoch 10/14\n",
      "4s - loss: 0.0353 - acc: 0.9878\n",
      "Epoch 11/14\n",
      "5s - loss: 0.0407 - acc: 0.9867\n",
      "Epoch 12/14\n",
      "4s - loss: 0.0377 - acc: 0.9875\n",
      "Epoch 13/14\n",
      "4s - loss: 0.0431 - acc: 0.9866\n",
      "Epoch 14/14\n",
      "4s - loss: 0.0369 - acc: 0.9883\n",
      "67.98 Seconds to train Net...\n",
      "2032/2042 [============================>.] - ETA: 0s\b\b\b\b\b\b\b\b\b\b\b\b\b\b\b\b\b\b\b\b\b\b\b\b\b\b\b\b\b\b\b\b\b\b\b\b\b\b\b\b\b\b\b\b\b\b\b\b\b\b\b\b\b\b\b\b\b\b\b\b\b\b\b\b\b\b\b\b\b\b\b\b\b\b\b\b\b\b\b\b\b\b\b\b\b\b\b\b\b\b\b\b\b\b\b\b\b\b\b\b\b\b\b\b\b\b\b\b\b\b\b\b\b\b\b\b\b\b\b\b\b\b\b\b\b\b\b\b\b\b\b\b\b\b\b\b\b\b\b\b\b\b\b\b\b\b\b\b\b\b\b\b\b\b\b\b\b\b\b\b\b\b\b\b\b\b\b\b\b\b\b\b\b\b\b\b\b\b\b\b\b\b\b\b\b\b\b\b\b\b\b\b\b\b\b\b\b\b\b\b\b\b\b\b\b\b\b\b\b\b\b\b\b\b\b\b\b\b\b\b\b\b\b\b\b\b\b\b\b\b\b\b\b\b\b\b\b\b\b\b\b\b\b\b\b\b\b\b\b\b\b\b\b\b\b\b\b\b\b\b\b\b\b\b\b\b\b\b\b\b\b\b\b\b\b\b\b\b\b\b\b\b\b\b\b\b\b\b\b\b\b\b\b\b\b\b\b\b\b\b\b\b\b\b\b\b\b\b\b\b\b\b\b\b\b\b\b\b\b\b\b\b\b\b\b\b\b\b\b\b\b\b\b\b\b\b\b\b\b\b\b\b\b\b\b\b\b\b\b\b\b\b\b\b\b\b\b\b\b\b\b\b\b\b\b\b\b\b\b\b\b\b\b\b\b\b\b\b\b\b\b\b\b\b\b\b\b\b\b\b\b\b\b\b\b\b\b\b\b\b\b\b\b\b\b\b\b\b\b\b\b\b\b\b\b\b\b\b\b\b\b\b\b\b\b\b\b\b\b\b\b\b\b\b\b\b\b\b\b\b\b\b\b\b\b\b\b\b\b\b\b\b\b\b\b\b\b\b\b\b\b\b\b\b\b\b\b\b\b\b\b\b\b\b\b\b\b\b\b\b\b\b\b\b\b\b\b\b\b\b\b\b\b\b\b\b\b\b\b\b\b\b\b\b\b\b\b\b\b\b\b\b\b\b\b\b\b\b\b\b\b\b\b\b\b\b\b\b\b\b\b\b\b\b\b\b\b\b\b\b\b\b\b\b\b\b\b\b\b\b\b\b\b\b\b\b\b\b\b\b\b\b\b\b\b\b\b\b\b\b\b\b\b\b\b\b\b\b\b\b\b\b\b\b\b\b\b\b\b\b\b\b\b\b\b\b\b\b\b\b\b\b\b\b\b\b\b\b\b\b\b\b\b\b\b\b\b\b\b\b\b\b\b\b\b\b\b\b\b\b\b\b\b\b\b\b\b\b\b\b\b\b\b\b\b\b\b\b\b\b\b\b\b\b\b\b\b\b\b\b\b\b\b\b\b\b\b\b\b\b\b\b\b\b\b\b\b\b\b\b\b\b\b\b\b\b\b\b\b\b\b\b\b\b\b\b\b\b\b\b\b\b\b\b\b\b\b\b\b\b\b\b\b\b\b\b\b\b\b\b\b\b\b\b\b\b\b\b\b\b\b\b\b\b\b\b\b\b\b\b\b\b\b\b\b\b\b\b\b\b\b\b\b\b\b\b\b\b\b\b\b\b\b\b\b\b\b\b\b\b\b\b\b\b\b\b\b\b\b\b\b\b\b\b\b\b\b\b\b\b\b\b\b\b\b\b\b\b\b\b\b\b\b\b\b\b\b\b\b\b\b\b\b\b\b\b\b\b\b\b\b\b\b\b\b\b\b\b\b\b\b\b\b\b\b\b\b\b\b\b\b\b\b\b\b\b\b\b\b\b\b\b\b\b\b\b\b\b\b\b\b\b\b\b\b\b\b\b\b\b\b\b\b\b\b\b\b\b\b\b\b\b\b\b\b\b\b\b\b\b\b\b\b\b\b\b\b\b\b\b\b\b\b\b\b\b\b\b\b\b\b\b\b\b\b\b\b\b\b\b\b\b\b\b\b\b\b\b\b\b\b\b\b\b\b\b\b\b\b\b\b\b\b\b\b\b\b\b\b\b\b\b\b\b\b\b\b\b\b\b\b\b\b\b\b\b\b\b\b\b\b\b\b\b\b\b\b\b\b\b\b\b\b\b\b\b\b\b\b\b\b\b\b\b\b\b\b\b\b\b\b\b\b\b\b\b\b\b\b\b\b\b\b\b\b\b\b\b\b\b\b\b\b\b\b\b\b\b\b\b\b\b\b\b\b\b\b\b\b\b\b\b\b\b\b\b\b\b\b\b\b\b\b\b\b\b\b\b\b\b\b\b\b\b\b\b\b\b\b\b\b\b\b\b\b\b\b\b\b\b\b\b\b\b\b\b\b\b\b\b\b\b\b\b\b\b\b\b\b\b\b\b\b\b\b\b\b\b\b\b\b\b\b\b\b\b\b\b\b\b\b\b\b\b\b\b\b\b\b\b\b\b\b\b\b\b\b\b\b\b\b\b\b\b\b\b\b\b\b\b\b\b\b\b\b\b\b\b\b\b\b\b\b\b\b\b\b\b\b\b\b\b\b\b\b\b\b\b\b\b\b\b\b\b\b\b\b\b\b\b\b\b\b\b\b\b\b\b\b\b\b\b\b\b\b\b\b\b\b\b\b\b\b\b\b\b\b\b\b\b\b\b\b\b\b\b\b\b\b\b\b\b\b\b\b\b\b\b\b\b\b\b\b\b\b\b\b\b\b\b\b\b\b\b\b\b\b\b\b\b\b\b\b\b\b\b\b\b\b\b\b\b\b\b\b\b\b\b\b\b\b\b\b\b\b\b\b\b\b\b\b\b\b\b\b\b\b\b\b\b\b\b\b\b\b\b\b\b\b\b\b\b\b\b\b\b\b\b\b\b\b\b\b\b\b\b\b\b\b\b\b\b\b\b\b\b\b\b\b\b\b\b\b\b\b\b\b\b\b\b\b\b\b\b\b\b\b\b\b\b\b\b\b\b\b\b\b\b\b\b\b\b\b\b\b\b\b\b\b\b\b\b\b\b\b\b\b\b\b\b\b\b\b\b\b\b\b\b\b\b\b\b\b\b\b\b\b\b\b\b\b\b\b\b\b\b\b\b\b\b\b\b\b\b\b\b\b\b\b\b\b\b\b\b\b\b\b\b\b\b\b\b\b\b\b\b\b\b\b\b\b\b\b\b\b\b\b\b\b\b\b\b\b\b\b\b\b\b\b\b\b\b\b\b\b\b\b\b\b\b\b\b\b\b\b\b\b\b\b\b\b\b\b\b\b\b\b\b\b\b\b\b\b\b\b\b\b\b\b\b\b\b\b\b\b\b\b\b\b\b\b\b\b\b\b\b\b\b\b\b\b\b\b\b\b\b\b\b\b\b\b\b\b\b\b\b\b\b\b\b\b\b\b\b\b\b\b\b\b\b\b\b\b\b\b\b\b\b\b\b\b\b\b\b\b\b\b\b\b\b\b\b\b\b\b\b\b\b\b\b\b\b\b\b\b\b\b\b\b\b\b\b\b\b\b\b\b\b\b\b\b\b\b\b\b\b\b\b\b\b\b\b\b\b\b\b\b\b\b\b\b\b\b\b\b\b\b\b\b\b\b\b\b\b\b\b\b\b\b\b\b\b\b\b\b\b\b\b\b\b\b\b\b\b\b\b\b\b\b\b\b\b\b\b\b\b\b\b\b\b\b\b\b\b\b\b\b\b\b\b\b\b\b\b\b\b\b\b\b\b\b\b\b\b\b\b\b\b\b\b\b\b\b\b\b\b\b\b\b\b\b\b\b\b\b\b\b\b\b\b\b\b\b\b\b\b\b\b\b\b\b\b\b\b\b\b\b\b\b\b\b\b\b\b\b\b\b\b\b\b\b\b\b\b\b\b\b\b\b\b\b\b\b\b\b\b\b\b\b\b\b\b\b\b\b\b\b\b\b\b\b\b\b\b\b\b\b\b\b\b\b\b\b\b\b\b\b\b\b\b\b\b\b\b\b\b\b\b\b\b\b\b\b\b\b\b\b\b\b\b\b\b\b\b\b\b\b\b\b\b\b\b\b\b\b\b\b\b\b\b\b\b\b\b\b\b\b\b\b\b\b\b\b\b\b\b\b\b\b\b\b\b\b\b\b\b\b\b\b\b\b\b\b\b\b\b\b\b\b\b\b\b\b\b\b\b\b\b\b\b\b\b\b\b\b\b\b\b\b\b\b\b\b\b\b\b\b\b\b\b\b\b\b\b\b\b\b\b\b\b\b\b\b\b\b\b\b\b\b\b\b\b\b\b\b\b\b\b\b\b\b\b\b\b\b\b\b\b\b\b\b\b\b\b\b\b\b\b\b\b\b\b\b\b\b\b\b\b\b\b\b\b\b\b\b\b\b\b\b\b\b\b\b\b\b\b\b\b\b\b\b\b\b\b\b\b\b\b\b\b\b\b\b\b\b\b\b\b\b\b\b\b\b\b\b\b\b\b\b\b\b\b\b\b\b\b\b\b\b\b\b\b\b\b\b\b\b\b\b\b\b\b\b\b\b\b\b\b\b\b\b\b\b\b\b\b\b\b\b\b\b\b\b\b\b\b\b\b\b\b\b\b\b\b\b\b\b\b\b\b\b\b\b\b\b\b\b\b\b\b\b\b\b\b\b\b\b\b\b\b\b\b\b\b\b\b\b\b\b\b\b\b\b\b\b\b\b\b\b\b\b\b\b\b\b\b\b\b\b\b\b\b\b\b\b\b\b\b\b\b\b\b\b\b\b\b\b\b\b\b\b\b\b\b\b\b\b\b\b\b\b\b\b\b\b\b\b\b\b\b\b\b\b\bTest Accuracy of Net =  0.9882\n"
     ]
    }
   ],
   "source": [
    "# Run additional training epochs (if necessary)\n",
    "t=time.time()\n",
    "model.fit(X_train, y_train, nb_epoch=14, batch_size=32, shuffle=True, verbose=2)\n",
    "t2 = time.time()\n",
    "\n",
    "print(round(t2-t, 2), 'Seconds to train Net...')\n",
    "print('Test Accuracy of Net = ', round(model.evaluate(X_test, y_test, batch_size=16, verbose=1)[1], 4))\n"
   ]
  },
  {
   "cell_type": "code",
   "execution_count": 26,
   "metadata": {
    "collapsed": false
   },
   "outputs": [
    {
     "name": "stdout",
     "output_type": "stream",
     "text": [
      "2016/2042 [============================>.] - ETA: 0s\b\b\b\b\b\b\b\b\b\b\b\b\b\b\b\b\b\b\b\b\b\b\b\b\b\b\b\b\b\b\b\b\b\b\b\b\b\b\b\b\b\b\b\b\b\b\b\b\b\b\b\b  48/2042 [..............................] - ETA: 0s\b\b\b\b\b\b\b\b\b\b\b\b\b\b\b\b\b\b\b\b\b\b\b\b\b\b\b\b\b\b\b\b\b\b\b\b\b\b\b\b\b\b\b\b\b\b\b\b\b\b\b\b\b\b\b\b\b\b\b\b\b\b\b\b\b\b\b\b\b\b\b\b\b\b\b\b\b\b\b\b\b\b\b\b\b\b\b\b\b\b\b\b\b\b\b\b\b\b\b\b\b\b\b\b\b\b\b\b\b\b\b\b\b\b\b\b\b\b\b\b\b\b\b\b\b\b\b\b\b\b\b\b\b\b\b\b\b\b\b\b\b\b\b\b\b\b\b\b\b\b\b\b\b\b\b\b\b\b\b\b\b\b\b\b\b\b\b\b\b\b\b\b\b\b\b\b\b\b\b\b\b\b\b\b\b\b\b\b\b\b\b\b\b\b\b\b\b\b\b\b\b\b\b\b\b\b\b\b\b\b\b\b\b\b\b\b\b\b\b\b\b\b\b\b\b\b\b\b\b\b\b\b\b\b\b\b\b\b\b\b\b\b\b\b\b\b\b\b\b\b\b\b\b\b\b\b\b\b\b\b\b\b\b\b\b\b\b\b\b\b\b\b\b\b\b\b\b\b\b\b\b\b\b\b\b\b\b\b\b\b\b\b\b\b\b\b\b\b\b\b\b\b\b\b\b\b\b\b\b\b\b\b\b\b\b\b\b\b\b\b\b\b\b\b\b\b\b\b\b\b\b\b\b\b\b\b\b\b\b\b\b\b\b\b\b\b\b\b\b\b\b\b\b\b\b\b\b\b\b\b\b\b\b\b\b\b\b\b\b\b\b\b\b\b\b\b\b\b\b\b\b\b\b\b\b\b\b\b\b\b\b\b\b\b\b\b\b\b\b\b\b\b\b\b\b\b\b\b\b\b\b\b\b\b\b\b\b\b\b\b\b\b\b\b\b\b\b\b\b\b\b\b\b\b\b\b\b\b\b\b\b\b\b\b\b\b\b\b\b\b\b\b\b\b\b\b\b\b\b\b\b\b\b\b\b\b\b\b\b\b\b\b\b\b\b\b\b\b\b\b\b\b\b\b\b\b\b\b\b\b\b\b\b\b\b\b\b\b\b\b\b\b\b\b\b\b\b\b\b\b\b\b\b\b\b\b\b\b\b\b\b\b\b\b\b\b\b\b\b\b\b\b\b\b\b\b\b\b\b\b\b\b\b\b\b\b\b\b\b\b\b\b\b\b\b\b\b\b\b\b\b\b\b\b\b\b\b\b\b\b\b\b\b\b\b\b\b\b\b\b\b\b\b\b\b\b\b\b\b\b\b\b\b\b\b\b\b\b\b\b\b\b\b\b\b\b\b\b\b\b\b\b\b\b\b\b\b\b\b\b\b\b\b\b\b\b\b\b\b\b\b\b\b\b\b\b\b\b\b\b\b\b\b\b\b\b\b\b\b\b\b\b\b\b\b\b\b\b\b\b\b\b\b\b\b\b\b\b\b\b\b\b\b\b\b\b\b\b\b\b\b\b\b\b\b\b\b\b\b\b\b\b\b\b\b\b\b\b\b\b\b\b\b\b\b\b\b\b\b\b\b\b\b\b\b\b\b\b\b\b\b\b\b\b\b\b\b\b\b\b\b\b\b\b\b\b\b\b\b\b\b\b\b\b\b\b\b\b\b\b\b\b\b\b\b\b\b\b\b\b\b\b\b\b\b\b\b\b\b\b\b\b\b\b\b\b\b\b\b\b\b\b\b\b\b\b\b\b\b\b\b\b\b\b\b\b\b\b\b\b\b\b\b\b\b\b\b\b\b\b\b\b\b\b\b\b\b\b\b\b\b\b\b\b\b\b\b\b\b\b\b\b\b\b\b\b\b\b\b\b\b\b\b\b\b\b\b\b\b\b\b\b\b\b\b\b\b\b\b\b\b\b\b\b\b\b\b\b\b\b\b\b\b\b\b\b\b\b\b\b\b\b\b\b\b\b\b\b\b\b\b\b\b\b\b\b\b\b\b\b\b\b\b\b\b\b\b\b\b\b\b\b\b\b\b\b\b\b\b\b\b\b\b\b\b\b\b\b\b\b\b\b\b\b\b\b\b\b\b\b\b\b\b\b\b\b\b\b\b\b\b\b\b\b\b\b\b\b\b\b\b\b\b\b\b\b\b\b\b\b\b\b\b\b\b\b\b\b\b\b\b\b\b\b\b\b\b\b\b\b\b\b\b\b\b\b\b\b\b\b\b\b\b\b\b\b\b\b\b\b\b\b\b\b\b\b\b\b\b\b\b\b\b\b\b\b\b\b\b\b\b\b\b\b\b\b\b\b\b\b\b\b\b\b\b\b\b\b\b\b\b\b\b\b\b\b\b\b\b\b\b\b\b\b\b\b\b\b\b\b\b\b\b\b\b\b\b\b\b\b\b\b\b\b\b\b\b\b\b\b\b\b\b\b\b\b\b\b\b\b\b\b\b\b\b\b\b\b\b\b\b\b\b\b\b\b\b\b\b\b\b\b\b\b\b\b\b\b\b\b\b\b\b\b\b\b\b\b\b\b\b\b\b\b - ETA: 0s\b\b\b\b\b\b\b\b\b\b\b\b\b\b\b\b\b\b\b\b\b\b\b\b\b\b\b\b\b\b\b\b\b\b\b\b\b\b\b\b\b\b\b\b\b\b\b\b\b\b\b\b\b\b\b\b\b\b\b\b\b\b\b\b\b\b\b\b\b\b\b\b\b\b\b\b\b\b\b\b\b\b\b\b\b\b\b\b\b\b\b\b\b\b\b\b\b\b\b\b\b\b\b\b\b\b\b\b\b\b\b\b\b\b\b\b\b\b\b\b\b\b\b\b\b\b\b\b\b\b\b\b\b\b\b\b\b\b\b\b\b\b\b\b\b\b\b\b\b\b\b\b\b\b\b\b\b\b\b\b\b\b\b\b\b\b\b\b\b\b\b\b\b\b\b\b\b\b\b\b\b\b\b\b\b\b\b\b\b\b\b\b\b\b\b\b\b\b\b\b\b\b\b\b\b\b\b\b\b\b\b\b\b\b\b\b\b\b\b\b\b\b\b\b\b\b\b\b\b\b\b\b\b\b\b\b\b\b\b\b\b\b\b\b\b\b\b\b\b\b\b\b\b\b\b\b\b\b\b\b\b\b\b\b\b\b\b\b\b\b\b\b\b\b\b\b\b\b\b\b\b\b\b\b\b\b\b\b\b\b\b\b\b\b\b\b\b\b\b\b\b\b\b\b\b\b\b\b\b\b\b\b\b\b\b\b\b\b\b\b\b\b\b\b\b\b\b\b\b\b\b\b\b\b\b\b\b\b\b\b\b\b\b\b\b\b\b\b\b\b\b\b\b\b\b\b\b\b\b\b\b\b\b\b\b\b\b\b\b\b\b\b\b\b\b\b\b\b\b\b\b\b\b\b\b\b\b\b\b\b\b\b\b\b\b\b\b\b\b\b\b\b\b\b\b\b\b\b\b\b\b\b\b\b\b\b\b\b\b\b\b\b\b\b\b\b\b\b\b\b\b\b\b\b\b\b\b\b\b\b\b\b\b\b\b\b\b\b\b\b\b\b\b\b\b\b\b\b\b\b\b\b\b\b\b\b\b\b\b\b\b\b\b\b\b\b\b\b\b\b\b\b\b\b\b\b\b\b\b\b\b\b\b\b\b\b\b\b\b\b\b\b\b\b\b\b\b\b\b\b\b\b\b\b\b\b\b\b\b\b\b\b\b\b\b\b\b\b\b\b\b\b\b\b\b\b\b\b\b\b\b\b\b\b\b\b\b\b\b\b\b\b\b\b\b\b\b\b\b\b\b\b\b\b\b\b\b\b\b\b\b\b\b\b\b\b\b\b\b\b\b\b\b\b\b\b\b\b\b\b\b\b\b\b\b\b\b\b\b\b\b\b\b\b\b\b\b\b\b\b\b\b\b\b\b\b\b\b\b\b\b\b\b\b\b\b\b\b\b\b\b\b\b\b\b\b\b\b\b\b\b\b\b\b\b\b\b\b\b\b\b\b\b\b\b\b\b\b\b\b\b\b\b\b\b\b\b\b\b\b\b\b\b\b\b\b\b\b\b\b\b\b\b\b\b\b\b\b\b\b\b\b\b\b\b\b\b\b\b\b\b\b\b\b\b\b\b\b\b\b\b\b\b\b\b\b\b\b\b\b\b\b\b\b\b\b\b\b\b\b\b\b\b\b\b\b\b\b\b\b\b\b\b\b\b\b\b\b\b\b\b\b\b\b\b\b\b\b\b\b\b\b\b\b\b\b\b\b\b\b\b\b\b\b\b\b\b\b\b\b\b\b\b\b\b\b\b\b\b\b\b\b\b\b\b\b\b\b\b\b\b\b\b\b\b\b\b\b\b\b\b\b\b\b\b\b\b\b\b\b\b\b\b\b\b\b\b\b\b\b\b\b\b\b\b\b\b\b\b\b\b\b\b\b\b\b\b\b\b\b\b\b\b\b\b\b\b\b\b\b\b\b\b\b\b\b\b\b\b\b\b\b\b\b\b\b\b\b\b\b\b\b\b\b\b\b\b\b\b\b\b\b\b\b\b\b\b\b\b\b\b\b\b\b\b\b\b\b\b\b\b\b\b\b\b\b\b\b\b\b\b\b\b\b\b\b\b\b\b\b\b\b\b\b\b\b\b\b\b\b\b\b\b\b\b\b\b\b\b\b\b\b\b\b\b\b\b\b\b\b\b\b\b\b\b\b\b\b\b\b\b\b\b\b\b\b\b\b\b\b\b\b\b\b\b\b\b\bTest Accuracy of Net =  0.9559\n"
     ]
    }
   ],
   "source": [
    "print('Test Accuracy of Net = ', round(model.evaluate(X_test, y_test, batch_size=16, verbose=1)[1], 4))"
   ]
  },
  {
   "cell_type": "code",
   "execution_count": 9,
   "metadata": {
    "collapsed": false
   },
   "outputs": [
    {
     "name": "stdout",
     "output_type": "stream",
     "text": [
      "Epoch 1/21\n",
      "0s - loss: 0.0829 - acc: 0.9719\n",
      "Epoch 2/21\n",
      "0s - loss: 0.0787 - acc: 0.9747\n",
      "Epoch 3/21\n",
      "0s - loss: 0.0676 - acc: 0.9770\n",
      "Epoch 4/21\n",
      "0s - loss: 0.0539 - acc: 0.9820\n",
      "Epoch 5/21\n",
      "0s - loss: 0.0500 - acc: 0.9843\n",
      "Epoch 6/21\n",
      "0s - loss: 0.0598 - acc: 0.9816\n",
      "Epoch 7/21\n",
      "0s - loss: 0.0385 - acc: 0.9857\n",
      "Epoch 8/21\n",
      "0s - loss: 0.0503 - acc: 0.9816\n",
      "Epoch 9/21\n",
      "0s - loss: 0.0344 - acc: 0.9880\n",
      "Epoch 10/21\n",
      "0s - loss: 0.0410 - acc: 0.9843\n",
      "Epoch 11/21\n",
      "0s - loss: 0.0471 - acc: 0.9839\n",
      "Epoch 12/21\n",
      "0s - loss: 0.0271 - acc: 0.9899\n",
      "Epoch 13/21\n",
      "0s - loss: 0.0390 - acc: 0.9862\n",
      "Epoch 14/21\n",
      "0s - loss: 0.0423 - acc: 0.9880\n",
      "Epoch 15/21\n",
      "0s - loss: 0.0353 - acc: 0.9885\n",
      "Epoch 16/21\n",
      "0s - loss: 0.0371 - acc: 0.9889\n",
      "Epoch 17/21\n",
      "0s - loss: 0.0289 - acc: 0.9876\n",
      "Epoch 18/21\n",
      "0s - loss: 0.0400 - acc: 0.9862\n",
      "Epoch 19/21\n",
      "0s - loss: 0.0309 - acc: 0.9903\n",
      "Epoch 20/21\n",
      "0s - loss: 0.0309 - acc: 0.9894\n",
      "Epoch 21/21\n",
      "0s - loss: 0.0274 - acc: 0.9899\n",
      "12.77 Seconds to train Net...\n",
      "2144/2170 [============================>.] - ETA: 0s\b\b\b\b\b\b\b\b\b\b\b\b\b\b\b\b\b\b\b\b\b\b\b\b\b\b\b\b\b\b\b\b\b\b\b\b\b\b\b\b\b\b\b\b\b\b\b\b\b\b\b\b\b\b\b\b\b\b\b\b\b\b\b\b\b\b\b\b\b\b\b\b\b\b\b\b\b\b\b\b\b\b\b\b\b\b\b\b\b\b\b\b\b\b\b\b\b\b\b\b\b\b\b\b\b\b\b\b\b\b\b\b\b\b\b\b\b\b\b\b\b\b\b\b\b\b\b\b\b\b\b\b\b\b\b\b\b\b\b\b\b\b\b\b\b\b\b\b\b\b\b\b\b\b\b\b\b\b\b\b\b\b\b\b\b\b\b\b\b\b\b\b\b\b\b\b\b\b\b\b\b\b\b\b\b\b\b\b\b\b\b\b\b\b\b\b\b\b\b\b\b\b\b\b\b\b\b\b\b\b\b\b\b\b\b\b\b\b\b\b\b\b\b\b\b\b\b\b\b\b\b\b\b\b\b\b\b\b\b\b\b\b\b\b\b\b\b\b\b\b\b\b\b\b\b\b\b\b\b\b\b\b\b\b\b\b\b\b\b\b\b\b\b\b\b\b\b\b\b\b\b\b\b\b\b\b\b\b\b\b\b\b\b\b\b\b\b\b\b\b\b\b\b\b\b\b\b\b\b\b\b\b\b\b\b\b\b\b\b\b\b\b\b\b\b\b\b\b\b\b\b\b\b\b\b\b\b\b\b\b\b\b\b\b\b\b\b\b\b\b\b\b\b\b\b\b\b\b\b\b\b\b\b\b\b\b\b\b\b\b\b\b\b\b\b\b\b\b\b\b\b\b\b\b\b\b\b\b\b\b\b\b\b\b\b\b\b\b\b\b\b\b\b\b\b\b\b\b\b\b\b\b\b\b\b\b\b\b\b\b\b\b\b\b\b\b\b\b\b\b\b\b\b\b\b\b\b\b\b\b\b\b\b\b\b\b\b\b\b\b\b\b\b\b\b\b\b\b\b\b\b\b\b\b\b\b\b\b\b\b\b\b\b\b\b\b\b\b\b\b\b\b\b\b\b\b\b\b\b\b\b\b\b\b\b\b\b\b\b\b\b\b\b\b\b\b\b\b\b\b\b\b\b\b\b\b\b\b\b\b\b\b\b\b\b\b\b\b\b\b\b\b\b\b\b\b\b\b\b\b\b\b\b\b\b\b\b\b\b\b\b\b\b\b\b\b\b\b\b\b\b\b\b\b\b\b\b\b\b\b\b\b\b\b\b\b\b\b\b\b\b\b\b\b\b\b\b\b\b\b\b\b\b\b\b\b\b\b\b\b\b\b\b\b\b\b\b\b\b\b\b\b\b\b\b\b\b\b\b\b\b\b\b\b\b\b\b\b\b\b\b\b\b\b\b\b\b\b\b\b\b\b\b\b\b\b\b\b\b\b\b\b\b\b\b\b\b\b\b\b\b\b\b\b\b\b\b\b\b\b\b\b\b\b\b\b\b\b\b\b\b\b\b\b\b\b\b\b\b\b\b\b\b\b\b\b\b\b\b\b\b\b\b\b\b\b\b\b\b\b\b\b\b\b\b\b\b\b\b\b\b\b\b\b\b\b\b\b\b\b\b\b\b\b\b\b\b\b\b\b\b\b\b\b\b\b\b\b\b\b\b\b\b\b\b\b\b\b\b\b\b\b\b\b\b\b\b\b\b\b\b\b\b\b\b\b\b\b\b\b\b\b\b\b\b\b\b\b\b\b\b\b\b\b\b\b\b\b\b\b\b\b\b\b\b\b\b\b\b\b\b\b\b\b\b\b\b\b\b\b\b\b\b\b\b\b\b\b\b\b\b\b\b\b\b\b\b\b\b\b\b\b\b\b\b\b\b\b\b\b\b\b\b\b\b\b\b\b\b\b\b\b\b\b\b\b\b\b\b\b\b\b\b\b\b\b\b\b\b\b\b\b\b\b\b\b\b\b\b\b\b\b\b\b\b\b\b\b\b\b\b\b\b\b\b\b\b\b\b\b\b\b\b\b\b\b\b\b\b\b\b\b\b\b\b\b\b\b\b\b\b\b\b\b\b\b\b\b\b\b\b\b\b\b\b\b\b\b\b\b\b\b\b\b\b\b\b\b\b\b\b\b\b\b\b\b\b\b\b\b\b\b\b\b\b\b\b\b\b\b\b\b\b\b\b\b\b\b\b\b\b\b\b\b\b\b\b\b\b\b\b\b\b\b\b\b\b\b\b\b\b\b\b\b\b\b\b\b\b\b\b\b\b\b\b\b\b\b\b\b\b\b\b\b\b\b\b\b\b\b\b\b\b\b\b\b\b\b\b\b\b\b\b\b\b\b\b\b\b\b\b\b\b\b\b\b\b\b\b\b\b\b\b\b\b\b\b\b\b\b\b\b\b\b\b\b\b\b\b\b\b\b\b\b\b\b\b\b\b\b\b\b\b\b\b\b\b\b\b\b\b\b\b\b\b\b\b\b\b\b\b\b\b\b\b\b\b\b\b\b\b\b\b\b\b\b\b\b\b\b\b\b\b\b\b\b\b\b\b\b\b\b\b\b\b\b\b\b\b\b\b\b\b\b\b\b\b\b\b\b\b\b\b\b\b\b\b\b\b\b\b\b\b\b\b\b\b\b\b\b\b\b\b\b\b\b\b\b\b\b\b\b\b\b\b\b\b\b\b\b\b\b\b\b\b\b\b\b\b\b\b\b\b\b\b\b\b\b\b\b\b\b\b\b\b\b\b\b\b\b\b\b\b\b\b\b\b\b\b\b\b\b\b\b\b\b\b\b\b\b\b\b\b\b\b\b\b\b\b\b\b\b\b\b\b\b\b\b\b\b\b\b\b\b\b\b\b\b\b\b\b\b\b\b\b\b\b\b\b\b\b\b\b\b\b\b\b\b\b\b\b\b\b\b\b\b\b\b\b\b\b\b\b\b\b\b\b\b\b\b\b\b\b\b\b\b\b\b\b\b\b\b\b\b\b\b\b\b\b\b\b\b\b\b\b\b\b\b\b\b\b\b\b\b\b\b\b\b\b\b\b\b\b\b\b\b\b\b\b\b\b\b\b\b\b\b\b\b\b\b\b\b\b\b\b\b\b\b\b\b\b\b\b\b\b\b\b\b\b\b\b\b\b\b\b\b\b\b\b\b\b\b\b\b\b\b\b\b\b\b\b\b\b\b\b\b\b\b\b\b\b\b\b\b\b\b\b\b\b\b\b\b\b\b\b\b\b\b\b\b\b\b\b\b\b\b\b\b\b\b\b\b\b\b\b\b\b\b\b\b\b\b\b\b\b\b\b\b\b\b\b\b\b\b\b\b\b\b\b\b\b\b\b\b\b\b\b\b\b\b\b\b\b\b\b\b\b\b\b\b\b\b\b\b\b\b\b\b\b\b\b\b\b\b\b\b\b\b\b\b\b\b\b\b\b\b\b\b\b\b\b\b\b\b\b\b\b\b\b\b\b\b\b\b\b\b\b\b\b\b\b\b\b\b\b\b\b\b\b\b\b\b\b\b\b\b\b\b\b\b\b\b\b\b\b\b\b\b\b\b\b\b\b\b\b\b\b\b\b\b\b\b\b\b\b\b\b\b\b\b\b\b\b\b\b\b\b\b\b\b\b\b\b\b\b\b\b\b\b\b\b\b\b\b\b\b\b\b\b\b\b\b\b\b\b\b\b\b\b\b\b\b\b\b\b\b\b\b\b\b\b\b\b\b\b\b\b\b\b\b\b\b\b\b\b\b\b\b\b\b\b\b\b\b\b\b\b\b\b\b\b\b\b\b\b\b\b\b\b\b\b\b\b\b\b\b\b\b\b\b\b\b\b\b\b\b\b\b\b\b\b\b\b\b\b\b\b\b\b\b\b\b\b\b\b\b\b\b\b\b\b\b\b\b\b\b\b\b\b\b\b\b\b\b\b\b\b\b\b\b\b\b\b\b\b\b\b\b\b\b\b\b\b\b\b\b\b\b\b\b\b\b\b\b\b\b\b\b\b\b\b\b\b\b\b\b\b\b\b\b\b\b\b\b\b\b\b\b\b\b\b\b\b\b\b\b\b\b\b\b\b\b\b\b\b\b\b\b\b\b\b\b\b\b\b\b\b\b\b\b\b\b\b\b\b\b\b\b\b\b\b\b\b\b\b\b\b\b\b\b\b\b\b\b\b\b\b\b\b\b\b\b\b\b\b\b\b\b\b\b\b\b\b\b\b\b\b\b\b\b\b\b\b\b\b\b\b\b\b\b\b\b\b\b\b\b\b\b\b\b\b\b\b\b\b\b\b\b\b\b\b\b\b\b\b\b\b\b\b\b\b\b\b\b\b\b\b\b\b\b\b\b\b\b\b\b\b\b\b\b\b\b\b\b\b\b\b\b\b\b\b\b\b\b\b\b\b\b\b\b\b\b\b\b\b\b\b\b\b\b\b\b\b\b\b\b\b\b\b\b\b\b\b\b\b\b\b\b\b\b\b\b\b\b\b\b\b\b\b\b\b\b\b\b\b\b\b\b\b\b\b\b\b\b\b\b\b\b\b\b\b\b\b\b\b\b\b\b\b\b\b\b\b\b\b\b\b\b\b\b\b\b\b\b\b\b\b\b\b\b\b\b\b\b\b\b\b\b\b\b\b\b\b\b\b\b\b\b\b\b\b\b\b\b\b\b\b\b\b\b\b\b\b\b\b\b\b\b\b\b\b\b\b\b\b\b\b\b\b\b\b\b\b\b\b\b\b\b\b\b\b\b\b\b\b\b\b\b\b\b\b\b\b\b\b\b\b\b\b\b\b\b\b\b\b\b\b\b\b\b\b\b\b\b\b\b\b\b\b\b\b\b\b\b\b\b\b\b\b\b\b\b\b\b\b\b\b\b\b\b\b\b\b\b\b\b\b\b\b\b\b\b\b\b\b\b\b\b\b\b\b\b\b\b\b\b\b\b\b\b\b\b\b\b\b\b\b\b\b\b\b\b\b\b\b\b\b\b\b\b\b\b\b\b\b\b\b\b\b\b\b\b\b\b\b\b\b\b\b\b\b\b\b\b\b\b\b\b\b\b\b\b\b\b\b\b\b\b\b\b\b\b\b\b\b\b\b\b\b\b\b\b\b\b\b\b\b\b\b\b\b\b\b\b\b\b\b\b\b\b\b\b\b\b\b\b\b\b\b\b\b\b\b\b\b\b\b\b\b\b\b\b\b\b\b\b\b\b\b\b\b\b\b\b\b\b\b\b\b\b\b\b\b\b\b\b\b\b\b\b\b\b\b\b\b\b\b\b\b\b\b\b\b\b\b\b\b\b\b\b\b\b\b\b\b\b\b\b\b\b\b\b\b\b\b\b\b\b\b\b\b\b\b\b\b\b\b\b\b\b\b\b\b\b\b\b\b\b\b\b\b\b\b\b\b\b\b\b\b\b\b\b\b\b\b\b\b\b\b\b\b\b\b\b\b\b\b\b\b\b\b\b\b\b\b\b\b\b\b\b\b\b\b\b\b\b\b\b\b\b\b\b\b\b\b\b\b\b\b\b\b\b\b\b\b\b\b\b\b\b\b\b\b\b\b\bTest Accuracy of Net =  1.0\n"
     ]
    }
   ],
   "source": [
    "# Finish training with test data\n",
    "t=time.time()\n",
    "model.fit(X_test, y_test, nb_epoch=21, batch_size=32, shuffle=True, verbose=2)\n",
    "t2 = time.time()\n",
    "\n",
    "print(round(t2-t, 2), 'Seconds to train Net...')\n",
    "# Check the score of the Net\n",
    "print('Test Accuracy of Net = ', round(model.evaluate(X_test, y_test, batch_size=16, verbose=1)[1], 4))\n"
   ]
  },
  {
   "cell_type": "code",
   "execution_count": 10,
   "metadata": {
    "collapsed": false
   },
   "outputs": [],
   "source": [
    "# Save the model\n",
    "\n",
    "import os\n",
    "import json\n",
    "import errno\n",
    "\n",
    "def deleteFile(file):\n",
    "    try:\n",
    "        os.remove(file)\n",
    "    except OSError as error:\n",
    "        if error.errno != errno.ENOENT:\n",
    "            raise\n",
    "\n",
    "\n",
    "# Save the model and weights\n",
    "deleteFile('model.json')\n",
    "deleteFile('model.h5')\n",
    "jsonString = model.to_json()\n",
    "with open('model.json', 'w') as outfile:\n",
    "    json.dump(jsonString, outfile)\n",
    "model.save_weights('model.h5')\n"
   ]
  },
  {
   "cell_type": "code",
   "execution_count": 11,
   "metadata": {
    "collapsed": true
   },
   "outputs": [],
   "source": [
    "del X_train, X_test, y_train, y_test"
   ]
  },
  {
   "cell_type": "code",
   "execution_count": 50,
   "metadata": {
    "collapsed": true
   },
   "outputs": [],
   "source": [
    "\n",
    "del model"
   ]
  },
  {
   "cell_type": "code",
   "execution_count": 5,
   "metadata": {
    "collapsed": false
   },
   "outputs": [
    {
     "name": "stderr",
     "output_type": "stream",
     "text": [
      "Using TensorFlow backend.\n"
     ]
    },
    {
     "name": "stdout",
     "output_type": "stream",
     "text": [
      "____________________________________________________________________________________________________\n",
      "Layer (type)                     Output Shape          Param #     Connected to                     \n",
      "====================================================================================================\n",
      "dropout_1 (Dropout)              (None, 624)           0           dropout_input_1[0][0]            \n",
      "____________________________________________________________________________________________________\n",
      "dense_1 (Dense)                  (None, 255)           159375      dropout_1[0][0]                  \n",
      "____________________________________________________________________________________________________\n",
      "dropout_2 (Dropout)              (None, 255)           0           dense_1[0][0]                    \n",
      "____________________________________________________________________________________________________\n",
      "dense_2 (Dense)                  (None, 127)           32512       dropout_2[0][0]                  \n",
      "____________________________________________________________________________________________________\n",
      "dropout_3 (Dropout)              (None, 127)           0           dense_2[0][0]                    \n",
      "____________________________________________________________________________________________________\n",
      "dense_3 (Dense)                  (None, 1)             128         dropout_3[0][0]                  \n",
      "====================================================================================================\n",
      "Total params: 192,015\n",
      "Trainable params: 192,015\n",
      "Non-trainable params: 0\n",
      "____________________________________________________________________________________________________\n"
     ]
    }
   ],
   "source": [
    "# Load binary classifier model\n",
    "\n",
    "model= None\n",
    "import json\n",
    "from keras.models import model_from_json\n",
    "with open('model.json', 'r') as jfile:\n",
    "    model = model_from_json(json.loads(jfile.read()))\n",
    "model.compile(\"adam\", \"binary_crossentropy\")\n",
    "#weights_file = args.model.replace('json', 'h5')\n",
    "model.load_weights('model.h5')\n",
    "model.summary()\n",
    "from sklearn.externals import joblib\n",
    "X_scaler= joblib.load('scalar.dat')\n"
   ]
  },
  {
   "cell_type": "code",
   "execution_count": 12,
   "metadata": {
    "collapsed": false
   },
   "outputs": [],
   "source": [
    "def getFeaturesFromColorPatch(patch, orient=12, pix_per_cell=4, cell_per_block=1):\n",
    "    global firstTime\n",
    "    hog_features = []\n",
    "    feature_patch= cv2.cvtColor(patch, cv2.COLOR_RGB2YCrCb)\n",
    "    for channel in range(feature_patch.shape[2]):\n",
    "        #hog_features.append(get_hog_features(feature_patch[:,:,channel], \n",
    "        #                    orient, pix_per_cell, cell_per_block, \n",
    "        #                    vis=False, feature_vec=True))\n",
    "        \n",
    "        # Compute gradient AND small color patch (note: color scaling)\n",
    "        hog_features.append(np.concatenate((get_hog_features(feature_patch[:,:,channel], orient, pix_per_cell), \n",
    "            np.ravel(cv2.resize(feature_patch[:,:,channel], (4,4), interpolation=3) )/255. ))) #CV_INTER_AREA\n",
    "        #hog_features.append(np.concatenate((get_hog_features(feature_patch[:,:,channel], \n",
    "        #                    orient, pix_per_cell, cell_per_block, \n",
    "        #                    vis=False, feature_vec=True), get_lpb_features(feature_patch[:,:,channel]))))\n",
    "        #hog_features.append(np.zeros(432))   # <--- short out\n",
    "    return np.ravel(hog_features)\n",
    "\n",
    "def scalePatch(patch):\n",
    "    global X_scaler # use previously defined scaler\n",
    "    X= patch.astype(np.float64).reshape((1, -1))                       \n",
    "    # Apply the scaler to X\n",
    "    return np.array(X_scaler.transform(X))\n",
    "\n",
    "#_______________________________________________________________________________\n",
    "# Circular queuing class made with Numpy\n",
    "\n",
    "class NQ():\n",
    "    def __init__(self,qlen,shape,dtype=np.uint8):\n",
    "        self.data= np.empty(shape=shape,dtype=dtype)\n",
    "        self.qlen= qlen\n",
    "    def put(self,a):\n",
    "        self.data= np.append(self.data,a, axis=0)\n",
    "        if len(self.data)>self.qlen: self.drop()\n",
    "    def peek(self):\n",
    "        return self.data[len(self.data)-1]\n",
    "    def drop(self):\n",
    "        self.data= np.delete(self.data, 0, axis=0)\n",
    "    def getAvg(self):\n",
    "        newList= np.copy(self.data[0])\n",
    "        newList[:]= np.sum(self.data[:], axis=0)/float(len(self.data))\n",
    "        return newList\n",
    "\n",
    "def renderRig(img, cx,cy, width,height, clr, strokeWeight):\n",
    "    pts=np.array([[0.75,0.1275], [0.4866666667,0.085], [0.286666667,0.1025], [0,0.3875], [0,0.645], [0.47,0.9275], [1,0.8825], [1,0.38]])\n",
    "    pts[:,0]= pts[:,0]*width  + cx-width //2\n",
    "    pts[:,1]= pts[:,1]*height + cy-height//2\n",
    "    cv2.polylines(img, [pts.astype(np.int32)], True, clr, strokeWeight)\n",
    "\n",
    "x= np.linspace(0, 14, 15)\n",
    "y=np.array([766,780,796,814,834,857,882,910,941,976,1014,1057,1103,1155,1214])\n",
    "coefs1= np.polyfit(x,y,3)\n",
    "y=np.array([411,410,410,409,409,408,407,406,406,405,403,402,401,398,397])\n",
    "coefs2= np.polyfit(x,y,2)\n",
    "y=np.array([14,16,18,20,23,25,28,31,35,38,43,46,52,59,66])\n",
    "coefs3= np.polyfit(x,y,2)\n",
    "def transformIdxToScreen(idxFloat):\n",
    "    global coefs1, coefs2, coefs3\n",
    "    f1= np.poly1d(coefs1)\n",
    "    f2= np.poly1d(coefs2)\n",
    "    f3= np.poly1d(coefs3)\n",
    "    return f1(idxFloat), f2(idxFloat), f3(idxFloat)"
   ]
  },
  {
   "cell_type": "code",
   "execution_count": 14,
   "metadata": {
    "collapsed": false,
    "scrolled": false
   },
   "outputs": [
    {
     "name": "stdout",
     "output_type": "stream",
     "text": [
      "Processing video...\n",
      "[MoviePy] >>>> Building video output_images/project_video.mp4\n",
      "[MoviePy] Writing video output_images/project_video.mp4\n"
     ]
    },
    {
     "name": "stderr",
     "output_type": "stream",
     "text": [
      "100%|███████████████████████████████████████████████████████████████████████████████████████████████████████████████████████▉| 1260/1261 [01:54<00:00, 12.04it/s]  0%|▏                                                                                                                          | 2/1261 [00:00<01:46, 11.86it/s]\n"
     ]
    },
    {
     "name": "stdout",
     "output_type": "stream",
     "text": [
      "[MoviePy] Done.\n",
      "[MoviePy] >>>> Video ready: output_images/project_video.mp4 \n",
      "\n",
      "115.75 seconds to complete.  10.89 fps\n"
     ]
    }
   ],
   "source": [
    "# Batch version\n",
    "from moviepy.editor import VideoFileClip\n",
    "import matplotlib.image as mpimg\n",
    "\n",
    "def resizePatch(img):\n",
    "    if len(img[0]) != 16:\n",
    "        if len(img[0])>16:\n",
    "            patch= cv2.resize(img, (16,16), interpolation=3) #CV_INTER_AREA\n",
    "        else:\n",
    "            patch= cv2.resize(img, (16,16), interpolation=2) #CV_INTER_CUBIC\n",
    "    else:\n",
    "        patch= img\n",
    "    return patch\n",
    "\n",
    "def preparePatch(p):\n",
    "    patch= resizePatch(p)\n",
    "    fpatch= getFeaturesFromColorPatch(patch)\n",
    "    spatch= scalePatch(fpatch)\n",
    "    return spatch\n",
    "\n",
    "diagScreen= None\n",
    "imgGlobal= None\n",
    "patchBatch= [[], [], [], [], []]  # patch, x, y, s, prediction\n",
    "predictionBatch= []\n",
    "\n",
    "def addPatch(p,x,y,s):\n",
    "    global patchBatch\n",
    "    patchBatch[0].append(p)\n",
    "    patchBatch[1].append(x)\n",
    "    patchBatch[2].append(y)\n",
    "    patchBatch[3].append(s)\n",
    "\n",
    "def processStripB(x,y,s):\n",
    "    global frameCount, imgGlobal\n",
    "    for i in range(4):\n",
    "        addPatch(imgGlobal[y:y+s, x:x+s, :],x,y,s)\n",
    "        y= y+s\n",
    "\n",
    "def processStripC(i):\n",
    "    global frameCount, imgGlobal\n",
    "    x,y,s= transformIdxToScreen(i)\n",
    "    for i in range(4):\n",
    "        addPatch(imgGlobal[y:y+s, x:x+s, :],x,y,s)\n",
    "        y= y+s\n",
    "\n",
    "# Predominant color assessment\n",
    "def dominantWhite(img): \n",
    "    return (img>90).sum() > (img<=90).sum()\n",
    "\n",
    "def locateCentroid(twoDimArray, prevCenterTuple):\n",
    "    global frameCount\n",
    "    #lst= [ [0,0,0,0,0,0,1,1,1,0,1,0,0,0,1],\n",
    "    #   [0,0,0,0,0,1,0,1,1,1,1,1,0,0,1],\n",
    "    #   [0,0,0,0,0,1,1,1,0,1,1,1,0,0,0],\n",
    "    #   [0,0,0,0,0,1,1,1,1,1,1,1,0,0,0] ]\n",
    "    #mask= np.zeros_like(lst)\n",
    "    mask= np.zeros((4,15),dtype=np.int32)\n",
    "    #mask= np.copy( np.zeros_like(twoDimArray, dtype=np.uint8) )\n",
    "    cv2.ellipse(mask, (prevCenterTuple, (7,4),0), 1,-1)\n",
    "    mask= np.array(mask, dtype=np.uint8)\n",
    "    masked= cv2.bitwise_and(mask, twoDimArray)\n",
    "    m= cv2.moments(np.array(masked),True)\n",
    "    return m['m10']/m['m00'], m['m01']/m['m00'] #return centroid float: x,y or col,row\n",
    "\n",
    "prevCentroid= (17.,2.)\n",
    "centroidQ= NQ(25, (0,2), np.int)\n",
    "for i in range(25): # bias average to offscreen \n",
    "    centroidQ.put([ np.array([1400,529]) ])\n",
    "lastDiagScreen= None\n",
    "rx= 0\n",
    "ry= 0\n",
    "rs= 0\n",
    "\n",
    "def processBatch(baseImage): # send the batch to the GPU for predictions\n",
    "    global frameCount, patchBatch, predictionBatch, diagScreen, prevCentroid, lastDiagScreen\n",
    "    global rx,ry,rs\n",
    "    prepBatch= []\n",
    "    for i in range( len(patchBatch[0]) ):\n",
    "        prepBatch.append( preparePatch(patchBatch[0][i]) )\n",
    "    predictionResults= model.predict( np.array(prepBatch).reshape((60,-1)) )\n",
    "    patchBatch[4]= np.array(predictionResults>0.9,dtype=np.uint8)\n",
    "    whiteCarFoundMaybe= False\n",
    "    for i in range( len(patchBatch[4]) ):\n",
    "        x= patchBatch[1][i]\n",
    "        y= patchBatch[2][i]\n",
    "        s= patchBatch[3][i]\n",
    "        if patchBatch[4][i]:\n",
    "            if dominantWhite(patchBatch[0][i]):\n",
    "                diagScreen[y:y+s-1, x:x+s-1, 0]= 63 # red\n",
    "                diagScreen[y:y+s-1, x:x+s-1, 1]= 31 # green\n",
    "                if whiteCarFoundMaybe==False:\n",
    "                    whiteCarFoundMaybe= True\n",
    "                    whiteCarLoc= i\n",
    "            else:\n",
    "                diagScreen[y:y+s-1, x:x+s-1, 1]= 63 # green\n",
    "    #    else:\n",
    "    #        diagScreen[y:y+s-1, x:x+s-1, 0]= 63   #157  Red\n",
    "        # More training data\n",
    "        #if predictionResults[i]<0.9 and predictionResults[i]>0.4:\n",
    "        #    mpimg.imsave('output_images/cells/'+str(frameCount)+'-'+str(x)+'-'+str(y)+'.PNG',resizePatch(patchBatch[0][i]))\n",
    "    #Search the neighbors of the white car in all directions\n",
    "    if whiteCarFoundMaybe:\n",
    "        refM= np.array(patchBatch[4].reshape((4,15),order='F'), dtype=np.uint8) # reference data matrix\n",
    "        whiteCarLeft= 0 # assume maxes\n",
    "        whiteCarRight= 14\n",
    "        whiteCarTop= 0\n",
    "        whiteCarBottom= 3\n",
    "#        if whiteCarLoc>4 and whiteCarLoc<56 and predictionBatch[i+4]>0.5 and predictionBatch[i-4]>0.5:\n",
    "####        # Find pixels with each car_number label value\n",
    "####        nonzero = (labels[0] == car_number).nonzero()\n",
    "####        # Identify x and y values of those pixels\n",
    "####        nonzeroy = np.array(nonzero[0])\n",
    "####        nonzerox = np.array(nonzero[1])\n",
    "####        # Define a bounding box based on min/max x and y\n",
    "####        bbox = ((np.min(nonzerox), np.min(nonzeroy)), (np.max(nonzerox), np.max(nonzeroy)))\n",
    "####        # Draw the box on the image\n",
    "####        cv2.rectangle(img, bbox[0], bbox[1], (0,0,255), 6)\n",
    "\n",
    "        \n",
    "    if frameCount>=678:  #  678 is when Black car arrives\n",
    "        for i in range(len(patchBatch[4])):\n",
    "            if dominantWhite(patchBatch[0][i]): patchBatch[4][i]=0 #mask white car for test purposes\n",
    "        refM= np.array(patchBatch[4].reshape((4,15),order='F'), dtype=np.uint8) # reference data matrix\n",
    "        newCentroid= locateCentroid(refM, prevCentroid)\n",
    "\n",
    "        newCentroid= (newCentroid[0], 1.5) #lock to middle of track\n",
    "\n",
    "        refX= np.array(patchBatch[1]).reshape((4,15),order='F')\n",
    "        refY= np.array(patchBatch[2]).reshape((4,15),order='F')\n",
    "        refS= np.array(patchBatch[3]).reshape((4,15),order='F')\n",
    "        x= refX[int(newCentroid[1]),round(newCentroid[0])]\n",
    "        y= refY[int(newCentroid[1]),int(newCentroid[0])]\n",
    "        #s= refS[int(newCentroid[1]),int(newCentroid[0])]\n",
    "        _,_,s= transformIdxToScreen(newCentroid[0])\n",
    "        x+= int( (newCentroid[0] - int(newCentroid[0]) ) * s) # add the fractional portion      s/2 +\n",
    "        y+= int(s/2 + (newCentroid[1] - int(newCentroid[1]) ) * s)\n",
    "        #diagScreen[y:y+10, x:x+10, 2]= 255  # small blue 10x10 square\n",
    "        centroidQ.put([ np.array([x,y]) ])\n",
    "\n",
    "        cx,cy= centroidQ.getAvg()\n",
    "        #cv2.ellipse(diagScreen, (centroidQ.getAvg(), (s*6,s*4),0), (255,255,0), 2) # ellipse\n",
    "        stroke=3\n",
    "        rigHeight=5\n",
    "        rigWidth=7\n",
    "        if s<31: \n",
    "            stroke=2\n",
    "            rigHeight=4.5\n",
    "            rigWidth=6\n",
    "        if s<20: \n",
    "            stroke=1\n",
    "            rigHeight=4\n",
    "            rigWidth=6\n",
    "        renderRig(diagScreen, cx,cy, s*rigWidth,s*rigHeight, (0,255,0), stroke)\n",
    "    #    if x+s*3>1280: maxX= 1280\n",
    "    #    else: maxX= x+s*3\n",
    "    #    v1= baseImage[y-s*2:y+s*2, x-s*3:maxX]\n",
    "    #    mask= cv2.inRange(v1, np.array([60,60,60]), np.array([255,255,255]) )\n",
    "    #    output= cv2.bitwise_and(v1, v1, mask= mask)\n",
    "    #    baseImage[y-s*2:y+s*2, x-s*3:maxX]= np.invert(np.dstack((mask,mask,mask)))\n",
    "    #    rx,ry,rs= x,y,s\n",
    "        prevCentroid= newCentroid\n",
    "    lastDiagScreen= np.copy(diagScreen)\n",
    "\n",
    "def redrawBatch(baseImage): # redraw the last batch\n",
    "    global patchBatch, predictionBatch, diagScreen, lastDiagScreen\n",
    "#    global rx,ry,rs\n",
    "#    x,y,s= rx,ry,rs\n",
    "#    if x+s*3>1280: maxX= 1280\n",
    "#    else: maxX= x+s*3\n",
    "#    v1= baseImage[y-s*2:y+s*2, x-s*3:maxX]\n",
    "#    mask= cv2.inRange(v1, np.array([60,60,60]), np.array([255,255,255]) )\n",
    "#    output= cv2.bitwise_and(v1, v1, mask= mask)\n",
    "#    baseImage[y-s*2:y+s*2, x-s*3:maxX]= np.invert(np.dstack((mask,mask,mask)))\n",
    "    diagScreen= np.copy(lastDiagScreen)\n",
    "    patchBatch= [[], [], [], [], []]  # patch, x, y, s, prediction\n",
    "    predictionBatch= []\n",
    "\n",
    "def process(img):\n",
    "    global diagScreen, frameCount, imgGlobal\n",
    "    diagScreen= np.zeros_like(img).astype(np.uint8)  #*127\n",
    "    imgGlobal= img\n",
    "    #for i in range(15):\n",
    "    #if frameCount>=182 and frameCount<=189:\n",
    "    #if frameCount==0:                  # <-------------------------------------- FRAME\n",
    "    \n",
    "    if frameCount%2==0:\n",
    "        for i in range(0,15):\n",
    "            processStripC(i)\n",
    "#        processStripB( 766,411,14)    # add patches to batch\n",
    "#        processStripB( 780,410,16)\n",
    "#        processStripB( 796,410,18)\n",
    "#        processStripB( 814,409,20)\n",
    "#        processStripB( 834,409,23)\n",
    "#        processStripB( 857,408,25)\n",
    "#        processStripB( 882,407,28)\n",
    "#        processStripB( 910,406,31)\n",
    "#        processStripB( 941,406,35)\n",
    "#        processStripB( 976,405,38)\n",
    "#        processStripB(1014,403,43)\n",
    "#        processStripB(1057,402,46)\n",
    "#        processStripB(1103,401,52)\n",
    "#        processStripB(1155,398,59)\n",
    "#        processStripB(1214,397,66)\n",
    "        processBatch(img)\n",
    "    else:\n",
    "        redrawBatch(img)\n",
    "\n",
    "    cv2.putText(img, str(frameCount), (1200,80), cv2.FONT_HERSHEY_SIMPLEX, 1, (255,255,255))\n",
    "    result= cv2.addWeighted(img, 1, diagScreen, 1, 0) # annotate the original\n",
    "    #result= diagScreen\n",
    "    frameCount+= 1\n",
    "    return result\n",
    "\n",
    "def procVideo(fileName):\n",
    "    global frameCount\n",
    "    frameCount= 0\n",
    "    clip= VideoFileClip(fileName)\n",
    "    imgName= fileName.split('/')[1]\n",
    "    project_video_output= 'output_images/'+imgName\n",
    "    print('Processing video...')\n",
    "    project_video_clip= clip.fl_image(process)\n",
    "    t=time.time()\n",
    "    project_video_clip.write_videofile(project_video_output, audio=False)\n",
    "    t2 = time.time()\n",
    "    print(round(t2-t, 2), 'seconds to complete. ', round(frameCount/(t2-t), 2), 'fps' )\n",
    "\n",
    "procVideo('video/project_video.mp4')"
   ]
  },
  {
   "cell_type": "code",
   "execution_count": 12,
   "metadata": {
    "collapsed": false
   },
   "outputs": [
    {
     "name": "stdout",
     "output_type": "stream",
     "text": [
      "[[[[1, 2, 3, 4], [5, 6, 7, 8]], [[1, 2, 3, 4], [5, 6, 7, 8]]], [500, 500], [1200, 1200], [66, 66], []]\n"
     ]
    }
   ],
   "source": [
    "patchBatch= [[], [], [], [], []]  # patch, x, y, s, prediction\n",
    "\n",
    "def addPatch(p,x,y,s):\n",
    "    global patchBatch\n",
    "    patchBatch[0].append(p)\n",
    "    patchBatch[1].append(x)\n",
    "    patchBatch[2].append(y)\n",
    "    patchBatch[3].append(s)\n",
    "\n",
    "addPatch([[1,2,3,4],[5,6,7,8]],500,1200,66)\n",
    "addPatch([[1,2,3,4],[5,6,7,8]],500,1200,66)\n",
    "print(patchBatch)"
   ]
  },
  {
   "cell_type": "code",
   "execution_count": null,
   "metadata": {
    "collapsed": false
   },
   "outputs": [],
   "source": [
    "import cv2\n",
    "help(cv2.HOGDescriptor())"
   ]
  },
  {
   "cell_type": "code",
   "execution_count": 6,
   "metadata": {
    "collapsed": true
   },
   "outputs": [],
   "source": [
    "hog = cv2.HOGDescriptor()\n",
    "hog.save(\"hog.xml\")"
   ]
  },
  {
   "cell_type": "code",
   "execution_count": 13,
   "metadata": {
    "collapsed": false,
    "scrolled": false
   },
   "outputs": [
    {
     "data": {
      "image/png": "[encoded data removed]",
      "text/plain": [
       "<matplotlib.figure.Figure at 0x1d0c03d2b70>"
      ]
     },
     "metadata": {},
     "output_type": "display_data"
    },
    {
     "data": {
      "text/plain": [
       "array([[ 0.99998367]], dtype=float32)"
      ]
     },
     "execution_count": 13,
     "metadata": {},
     "output_type": "execute_result"
    }
   ],
   "source": [
    "img2= mpimg.imread('training/vehicles/JWD_vcells/3.PNG')\n",
    "plt.imshow(img2)\n",
    "plt.show()\n",
    "model.predict( np.array( preparePatch ( img2) ).reshape((1,-1)) )"
   ]
  },
  {
   "cell_type": "code",
   "execution_count": 27,
   "metadata": {
    "collapsed": true
   },
   "outputs": [],
   "source": [
    "x= np.linspace(0, 14, 15)\n",
    "y=np.array([766,780,796,814,834,857,882,910,941,976,1014,1057,1103,1155,1214])\n",
    "coefs1= np.polyfit(x,y,3)\n",
    "y=np.array([411,410,410,409,409,408,407,406,406,405,403,402,401,398,397])\n",
    "coefs2= np.polyfit(x,y,2)\n",
    "y=np.array([14,16,18,20,23,25,28,31,35,38,43,46,52,59,66])\n",
    "coefs3= np.polyfit(x,y,2)\n",
    "def transformIdxToScreen(idxFloat):\n",
    "    global coefs1, coefs2, coefs3\n",
    "    f1= np.poly1d(coefs1)\n",
    "    f2= np.poly1d(coefs2)\n",
    "    f3= np.poly1d(coefs3)\n",
    "    return f1(idxFloat), f2(idxFloat), f3(idxFloat)"
   ]
  },
  {
   "cell_type": "code",
   "execution_count": 28,
   "metadata": {
    "collapsed": false
   },
   "outputs": [
    {
     "name": "stdout",
     "output_type": "stream",
     "text": [
      "(1116.8249440186175, 399.94367824175868, 54.439370414996773)\n"
     ]
    }
   ],
   "source": [
    "print(transformIdxToScreen(12.256))"
   ]
  },
  {
   "cell_type": "code",
   "execution_count": 121,
   "metadata": {
    "collapsed": false
   },
   "outputs": [
    {
     "name": "stdout",
     "output_type": "stream",
     "text": [
      "[  5.02765209e-02   5.67496229e-01   1.41637399e+01   7.65433333e+02]\n"
     ]
    }
   ],
   "source": [
    "x= np.linspace(0, 14, 15)\n",
    "y=np.array([766,780,796,814,834,857,882,910,941,976,1014,1057,1103,1155,1214])\n",
    "coefs1= np.polyfit(x,y,3)\n",
    "print(coefs1)"
   ]
  },
  {
   "cell_type": "code",
   "execution_count": 19,
   "metadata": {
    "collapsed": false
   },
   "outputs": [
    {
     "name": "stdout",
     "output_type": "stream",
     "text": [
      "[  0.17946025   1.01969942  14.98529412]\n"
     ]
    }
   ],
   "source": [
    "x= np.linspace(0, 14, 15)\n",
    "y=np.array([14,16,18,20,23,25,28,31,35,38,43,46,52,59,66])\n",
    "coefs2= np.polyfit(x,y,2)\n",
    "print(coefs2)"
   ]
  },
  {
   "cell_type": "code",
   "execution_count": 20,
   "metadata": {
    "collapsed": false
   },
   "outputs": [
    {
     "data": {
      "image/png": "[encoded data removed]",
      "text/plain": [
       "<matplotlib.figure.Figure at 0x296f25c8e10>"
      ]
     },
     "metadata": {},
     "output_type": "display_data"
    },
    {
     "data": {
      "text/plain": [
       "<matplotlib.figure.Figure at 0x296f2962550>"
      ]
     },
     "metadata": {},
     "output_type": "display_data"
    }
   ],
   "source": [
    "f= np.poly1d(coefs2)\n",
    "xp = np.linspace(0, 14, 100)\n",
    "_= plt.plot(x, y, '.', xp, f(xp), '-')\n",
    "_=plt.ylim(14,66)\n",
    "_=plt.figure( figsize=(16,9) )\n",
    "plt.show()"
   ]
  },
  {
   "cell_type": "code",
   "execution_count": 24,
   "metadata": {
    "collapsed": false
   },
   "outputs": [
    {
     "name": "stdout",
     "output_type": "stream",
     "text": [
      "[ -5.49450549e-02  -1.87912088e-01   4.10500000e+02]\n"
     ]
    }
   ],
   "source": [
    "y=np.array([411,410,410,409,409,408,407,406,406,405,403,402,401,398,397])\n",
    "coefs3= np.polyfit(x,y,2)\n",
    "print(coefs3)"
   ]
  },
  {
   "cell_type": "code",
   "execution_count": 25,
   "metadata": {
    "collapsed": false
   },
   "outputs": [
    {
     "data": {
      "image/png": "[encoded data removed]",
      "text/plain": [
       "<matplotlib.figure.Figure at 0x296f25afd68>"
      ]
     },
     "metadata": {},
     "output_type": "display_data"
    },
    {
     "data": {
      "text/plain": [
       "<matplotlib.figure.Figure at 0x296f297f160>"
      ]
     },
     "metadata": {},
     "output_type": "display_data"
    }
   ],
   "source": [
    "f= np.poly1d(coefs3)\n",
    "xp = np.linspace(0, 14, 100)\n",
    "_= plt.plot(x, y, '.', xp, f(xp), '-')\n",
    "_=plt.ylim(411,397)\n",
    "_=plt.figure( figsize=(16,9) )\n",
    "plt.show()"
   ]
  },
  {
   "cell_type": "code",
   "execution_count": 132,
   "metadata": {
    "collapsed": false
   },
   "outputs": [],
   "source": [
    "#_______________________________________________________________________________\n",
    "# Vehicle tracking class\n",
    "\n",
    "class Vehicle():\n",
    "    def __init__(self, color, left,top, width,height):\n",
    "        self.color= color\n",
    "        self.left= left\n",
    "        self.top= top\n",
    "        self.width= width\n",
    "        self.height= height\n",
    "        self.dx= 0  # relative speed (computed over frames)\n",
    "        self.dy= 0\n",
    "        self.refQ= NQ(4,(0,1))   #4 frames containing an array of refdata\n",
    "        self.centroidX= left+width/2\n",
    "        self.centroidY= top+height/2\n",
    "        \n",
    "    def updateCentroid(self):  #based on reference queue\n",
    "        #zip through the queue and update location of centroid\n",
    "        for i in range(len(self.refQ)):\n",
    "            pass #  data= self.refQ.peek()\n",
    "        lastX= self.centroidX\n",
    "        lastY= self.centroidY\n",
    "        self.centroidX= left+width/2\n",
    "        self.centroidY= top+height/2\n",
    "        #also update dx,dy\n",
    "        self.dx= self.centroidX-lastX\n",
    "        self.dy= self.centroidY-lastY\n",
    "    \n",
    "    #Resolve real-world patches to vehicle model\n",
    "    #Patch affinity rules:\n",
    "    #majority should be of one color (with darker lower on the image)\n",
    "    #if occluded, patches belong to top vehicle\n",
    "    def addReferenceData(self, dataList):  #dataList: [ [x,y,s,color], ... ]\n",
    "        #reject/accept data according to rule set\n",
    "        #modify dataList here\n",
    "        #majority should be within a 'normal' range wrt distance (either computed or ascertained over time)\n",
    "        # with consideration for dx,dy\n",
    "        #if black car, reject white cells\n",
    "        \n",
    "        #add resulting data to queue\n",
    "        self.refQ.put([ dataList ])\n",
    "    \n",
    "    def draw(self):\n",
    "        global diagScreen\n",
    "        pass # draw something to the screen\n",
    "        #first, try just the centroid, or the bounding ellipse\n",
    "        diagScreen[y:y+s-1, x:x+s-1, 2]= 255  # blue\n",
    "\n",
    "# Example init for 'Black' video\n",
    "carWhite= Vehicle('White', 862,415, 88,52)\n",
    "carBlack= Vehicle('Black', 1233,394, 576,343) #width,height is apx (offscreen)\n",
    "\n"
   ]
  },
  {
   "cell_type": "code",
   "execution_count": 20,
   "metadata": {
    "collapsed": false
   },
   "outputs": [
    {
     "name": "stdout",
     "output_type": "stream",
     "text": [
      "Contains majority white: False\n"
     ]
    },
    {
     "data": {
      "image/png": "[encoded data removed]",
      "text/plain": [
       "<matplotlib.figure.Figure at 0x1756ba66e48>"
      ]
     },
     "metadata": {},
     "output_type": "display_data"
    }
   ],
   "source": [
    "# Predominant color assessment\n",
    "def dominantWhite(img): \n",
    "    return (img>90).sum() > (img<=90).sum()\n",
    "\n",
    "img2= cv2.imread('training/vehicles/JWD_vcells/700.PNG')\n",
    "print('Contains majority white:',dominantWhite(img2))\n",
    "plt.imshow(cv2.cvtColor(img2, cv2.COLOR_BGR2RGB))\n",
    "plt.show()\n"
   ]
  },
  {
   "cell_type": "code",
   "execution_count": 31,
   "metadata": {
    "collapsed": false
   },
   "outputs": [],
   "source": [
    "image= cv2.imread('analysis/vlcsnap-00020.png')\n",
    "v1= image[401:401+158, 924:924+269]\n",
    "mask= cv2.inRange(v1, np.array([60,60,60]), np.array([255,255,255]) )\n",
    "output= cv2.bitwise_and(v1, v1, mask= mask)\n",
    "cv2.imshow(\"image\", mask)\n",
    "cv2.waitKey(0)\n",
    "cv2.destroyAllWindows()\n"
   ]
  },
  {
   "cell_type": "code",
   "execution_count": 30,
   "metadata": {
    "collapsed": true
   },
   "outputs": [],
   "source": [
    "cv2.destroyAllWindows()"
   ]
  },
  {
   "cell_type": "code",
   "execution_count": 27,
   "metadata": {
    "collapsed": true
   },
   "outputs": [],
   "source": [
    "image= cv2.imread('analysis/vlcsnap-00019.png')\n",
    "v1= image[389:389+134, 1014:1014+266]\n",
    "mask= cv2.inRange(v1, np.array([140,140,140]), np.array([255,255,255]) )\n",
    "output= cv2.bitwise_and(v1, v1, mask= mask)\n",
    "cv2.imshow(\"image\", mask)\n",
    "cv2.waitKey(0)\n",
    "cv2.destroyAllWindows()\n"
   ]
  },
  {
   "cell_type": "code",
   "execution_count": 50,
   "metadata": {
    "collapsed": false
   },
   "outputs": [
    {
     "data": {
      "image/png": "[encoded data removed]",
      "text/plain": [
       "<matplotlib.figure.Figure at 0x1ee93c10a58>"
      ]
     },
     "metadata": {},
     "output_type": "display_data"
    }
   ],
   "source": [
    "plt.plot(np.sum(mask/134, axis=0))\n",
    "plt.show()"
   ]
  },
  {
   "cell_type": "code",
   "execution_count": 47,
   "metadata": {
    "collapsed": false
   },
   "outputs": [
    {
     "data": {
      "text/plain": [
       "121"
      ]
     },
     "execution_count": 47,
     "metadata": {},
     "output_type": "execute_result"
    }
   ],
   "source": [
    "np.argmax(np.sum(mask/134, axis=0))"
   ]
  },
  {
   "cell_type": "code",
   "execution_count": 52,
   "metadata": {
    "collapsed": false
   },
   "outputs": [
    {
     "data": {
      "image/png": "[encoded data removed]",
      "text/plain": [
       "<matplotlib.figure.Figure at 0x1ee93b1ebe0>"
      ]
     },
     "metadata": {},
     "output_type": "display_data"
    }
   ],
   "source": [
    "image= cv2.imread('analysis/WhiteTheshold-140.png')\n",
    "edges= cv2.Canny(image,127,255)\n",
    "plt.imshow(edges,cmap = 'gray')\n",
    "plt.show()"
   ]
  },
  {
   "cell_type": "code",
   "execution_count": 68,
   "metadata": {
    "collapsed": false
   },
   "outputs": [
    {
     "data": {
      "image/png": "[encoded data removed]",
      "text/plain": [
       "<matplotlib.figure.Figure at 0x1ee928bfb00>"
      ]
     },
     "metadata": {},
     "output_type": "display_data"
    }
   ],
   "source": [
    "def sobelY(img, threshL=20, threshU=100):\n",
    "    sobely= cv2.Sobel(img, cv2.CV_16S, 0, 1) # run the derivative in y\n",
    "    abs_sobely= np.absolute(sobely) # absolute y derivative to accentuate horizontal lines \n",
    "    scaled_sobel= np.uint8(255*abs_sobely/np.max(abs_sobely))\n",
    "    binary= np.zeros_like(img)\n",
    "    binary[(scaled_sobel >threshL) & (scaled_sobel <= threshU)]= 255 # threshold y gradient\n",
    "    return binary\n",
    "image= cv2.imread('analysis/WhiteTheshold-140.png')\n",
    "edges= sobelY(image,127,255)\n",
    "plt.imshow(edges,cmap = 'gray')\n",
    "plt.show()"
   ]
  },
  {
   "cell_type": "code",
   "execution_count": 81,
   "metadata": {
    "collapsed": false
   },
   "outputs": [
    {
     "data": {
      "image/png": "[encoded data removed]",
      "text/plain": [
       "<matplotlib.figure.Figure at 0x1ee920f34a8>"
      ]
     },
     "metadata": {},
     "output_type": "display_data"
    }
   ],
   "source": [
    "image= cv2.imread('analysis/Vehicle1.PNG')\n",
    "edges= sobelY(cv2.cvtColor(image, cv2.COLOR_BGR2HLS)[:,:,1],200,255)\n",
    "plt.imshow(edges,cmap = 'gray')\n",
    "plt.show()"
   ]
  },
  {
   "cell_type": "code",
   "execution_count": 53,
   "metadata": {
    "collapsed": false
   },
   "outputs": [
    {
     "data": {
      "image/png": "[encoded data removed]",
      "text/plain": [
       "<matplotlib.figure.Figure at 0x1ee928c1128>"
      ]
     },
     "metadata": {},
     "output_type": "display_data"
    }
   ],
   "source": [
    "image= cv2.imread('analysis/BlackTheshold-60.png')\n",
    "edges= cv2.Canny(image,127,255)\n",
    "plt.imshow(edges,cmap = 'gray')\n",
    "plt.show()\n"
   ]
  },
  {
   "cell_type": "code",
   "execution_count": 62,
   "metadata": {
    "collapsed": false
   },
   "outputs": [
    {
     "name": "stdout",
     "output_type": "stream",
     "text": [
      "11.1875 1.3125\n"
     ]
    }
   ],
   "source": [
    "# Find centroid\n",
    "lst= [ [0,0,0,0,0,0,0,0,0,0,1,1,1,1,0],\n",
    "       [0,0,0,0,0,0,0,0,0,1,1,0,1,1,1],\n",
    "       [0,0,0,0,0,0,0,0,1,0,1,1,0,1,1],\n",
    "       [0,0,0,0,0,0,0,0,1,0,0,1,0,0,0] ]\n",
    "n= 0\n",
    "Xc= 0\n",
    "Yc= 0\n",
    "for y in range(0,len(lst)):\n",
    "    for x in range(0,len(lst[0])):\n",
    "        if lst[y][x]==1:\n",
    "            Xc+= x\n",
    "            Yc+= y\n",
    "            n+= 1\n",
    "Yc/= n\n",
    "Xc/= n\n",
    "print(Xc,Yc)"
   ]
  },
  {
   "cell_type": "code",
   "execution_count": 2,
   "metadata": {
    "collapsed": false
   },
   "outputs": [
    {
     "name": "stdout",
     "output_type": "stream",
     "text": [
      "8.428571428571429 1.2142857142857142\n"
     ]
    }
   ],
   "source": [
    "# Find centroid\n",
    "lst= [ [0,0,0,0,0,0,0,1,1,1,1,0,0,0,0],\n",
    "       [0,0,0,0,0,0,0,1,1,1,1,0,0,0,0],\n",
    "       [0,0,0,0,0,0,1,0,1,1,1,1,0,0,0],\n",
    "       [0,0,0,0,0,0,1,0,0,0,0,0,0,0,0] ]\n",
    "count= 0\n",
    "Xc= 0\n",
    "Yc= 0\n",
    "for y in range(0,len(lst)):\n",
    "    for x in range(0,len(lst[0])):\n",
    "        if lst[y][x]==1:\n",
    "            Xc+= x\n",
    "            Yc+= y\n",
    "            count+= 1\n",
    "Yc/= count\n",
    "Xc/= count\n",
    "print(Xc,Yc)"
   ]
  },
  {
   "cell_type": "code",
   "execution_count": 8,
   "metadata": {
    "collapsed": false
   },
   "outputs": [
    {
     "name": "stdout",
     "output_type": "stream",
     "text": [
      "8.428571428571429 1.2142857142857142\n"
     ]
    }
   ],
   "source": [
    "m= cv2.moments(np.array(lst),True)\n",
    "print(m['m10']/m['m00'], m['m01']/m['m00'])"
   ]
  },
  {
   "cell_type": "code",
   "execution_count": 13,
   "metadata": {
    "collapsed": false
   },
   "outputs": [
    {
     "name": "stdout",
     "output_type": "stream",
     "text": [
      "8.0 2.125\n"
     ]
    }
   ],
   "source": [
    "lst= [ [0,0,0,0,0,0,0,0,1,0,0,0,0,0,0],\n",
    "       [0,0,0,0,0,0,0,1,1,1,0,0,0,0,0],\n",
    "       [0,0,0,0,0,0,1,1,1,1,1,0,0,0,0],\n",
    "       [0,0,0,0,0,1,1,1,1,1,1,1,0,0,0] ]\n",
    "m= cv2.moments(np.array(lst),True)\n",
    "print(m['m10']/m['m00'], m['m01']/m['m00'])"
   ]
  },
  {
   "cell_type": "code",
   "execution_count": 88,
   "metadata": {
    "collapsed": false
   },
   "outputs": [
    {
     "name": "stdout",
     "output_type": "stream",
     "text": [
      "(8.481481481481481, 1.4814814814814814)\n"
     ]
    }
   ],
   "source": [
    "def locateCentroid(twoDimArray):\n",
    "    m= cv2.moments(np.array(twoDimArray),True)\n",
    "    return m['m10']/m['m00'], m['m01']/m['m00']\n",
    "lst= [ [0,0,0,0,0,1,1,1,1,0,1,1,0,0,1],\n",
    "       [0,0,0,0,0,1,0,1,1,1,1,1,0,0,1],\n",
    "       [0,0,0,0,0,1,1,1,0,1,1,1,0,0,0],\n",
    "       [0,0,0,0,0,1,1,1,1,1,1,1,0,0,0] ]\n",
    "print(locateCentroid(lst))"
   ]
  },
  {
   "cell_type": "code",
   "execution_count": null,
   "metadata": {
    "collapsed": true
   },
   "outputs": [],
   "source": [
    "previousCenter"
   ]
  },
  {
   "cell_type": "code",
   "execution_count": 110,
   "metadata": {
    "collapsed": false
   },
   "outputs": [
    {
     "name": "stdout",
     "output_type": "stream",
     "text": [
      "[[  0   0   0   1   8 233 217 228 214 118 230 238  18   3 196]\n",
      " [  0   0   0   1   9 238  81 231 233 244 233 238  18   6 140]\n",
      " [  0   0   0   1  10 235 215 232 119 234 211 238  17   7  36]\n",
      " [  0   0   0   1   9 224 170 228 237 245 224 239  17  13  12]]\n",
      "[[0 0 0 0 0 1 1 1 1 0 1 1 0 0 0]\n",
      " [0 0 0 0 0 1 0 1 1 1 1 1 0 0 0]\n",
      " [0 0 0 0 0 1 1 1 0 1 1 1 0 0 0]\n",
      " [0 0 0 0 0 1 0 1 1 1 1 1 0 0 0]]\n"
     ]
    }
   ],
   "source": [
    "# Attempt to remove noise (the '1' in the upper-right corner)\n",
    "lst2= cv2.fastNlMeansDenoising(np.array(lst,dtype=np.uint8)*255, None,90,2,5)\n",
    "print( lst2 )\n",
    "lst3= np.array(lst2 > 200,dtype=np.uint8)\n",
    "print( lst3 )\n",
    " "
   ]
  },
  {
   "cell_type": "code",
   "execution_count": 111,
   "metadata": {
    "collapsed": false
   },
   "outputs": [
    {
     "name": "stdout",
     "output_type": "stream",
     "text": [
      "(8.125, 1.5)\n"
     ]
    }
   ],
   "source": [
    "print(locateCentroid(lst3))"
   ]
  },
  {
   "cell_type": "code",
   "execution_count": 9,
   "metadata": {
    "collapsed": false
   },
   "outputs": [
    {
     "name": "stdout",
     "output_type": "stream",
     "text": [
      "[[0 0 0 0 0 0 0 0 0 0 0 0 0 0 0]\n",
      " [0 0 0 0 0 0 0 0 0 0 0 0 0 0 0]\n",
      " [0 0 0 0 0 0 0 0 0 0 0 0 0 0 0]\n",
      " [0 0 0 0 0 0 0 0 0 0 0 0 0 0 0]]\n",
      "[[0 0 0 0 0 0 0 0 0 0 0 0 1 1 1]\n",
      " [0 0 0 0 0 0 0 0 0 0 0 1 1 1 1]\n",
      " [0 0 0 0 0 0 0 0 0 0 0 1 1 1 1]\n",
      " [0 0 0 0 0 0 0 0 0 0 0 1 1 1 1]]\n"
     ]
    }
   ],
   "source": [
    "lst= [ [0,0,0,0,0,0,1,1,1,0,1,0,0,0,1],\n",
    "       [0,0,0,0,0,1,0,1,1,1,1,1,0,0,1],\n",
    "       [0,0,0,0,0,1,1,1,0,1,1,1,0,0,0],\n",
    "       [0,0,0,0,0,1,1,1,1,1,1,1,0,0,0] ]\n",
    "\n",
    "tst1= np.zeros_like(lst)\n",
    "print(tst1)\n",
    "cv2.ellipse(tst1, ((14,2), (7,4),0), 1,-1)\n",
    "print(tst1)"
   ]
  },
  {
   "cell_type": "code",
   "execution_count": 12,
   "metadata": {
    "collapsed": false
   },
   "outputs": [
    {
     "name": "stdout",
     "output_type": "stream",
     "text": [
      "[[0 0 0 0 0 0 1 1 1 0 1 0 0 0 0]\n",
      " [0 0 0 0 0 1 0 1 1 1 1 1 0 0 0]\n",
      " [0 0 0 0 0 1 1 1 0 1 1 1 0 0 0]\n",
      " [0 0 0 0 0 1 1 1 1 1 1 1 0 0 0]]\n"
     ]
    }
   ],
   "source": [
    "lst4= cv2.bitwise_and(tst1, np.array(lst))\n",
    "print( lst4 )"
   ]
  },
  {
   "cell_type": "code",
   "execution_count": 136,
   "metadata": {
    "collapsed": false
   },
   "outputs": [
    {
     "name": "stdout",
     "output_type": "stream",
     "text": [
      "(8.043478260869565, 1.6956521739130435)\n"
     ]
    }
   ],
   "source": [
    "print(locateCentroid(lst4))"
   ]
  },
  {
   "cell_type": "code",
   "execution_count": 21,
   "metadata": {
    "collapsed": false
   },
   "outputs": [
    {
     "name": "stdout",
     "output_type": "stream",
     "text": [
      "(8.166666666666666, 1.625)\n"
     ]
    }
   ],
   "source": [
    "def locateCentroid(twoDimArray, prevCenterTuple):\n",
    "    mask= np.zeros_like(lst)\n",
    "    cv2.ellipse(mask, (prevCenterTuple, (7,4),0), 1,-1)\n",
    "    masked= cv2.bitwise_and(mask, np.array(twoDimArray))\n",
    "    m= cv2.moments(np.array(masked),True)\n",
    "    return m['m10']/m['m00'], m['m01']/m['m00']\n",
    "lst= [ [0,0,0,0,0,1,1,1,1,0,1,1,0,0,1],\n",
    "       [0,0,0,0,0,1,0,1,1,1,1,1,0,0,1],\n",
    "       [0,0,0,0,0,1,1,1,0,1,1,1,0,0,0],\n",
    "       [0,0,0,0,0,1,1,1,1,1,1,1,0,0,0] ]\n",
    "print( locateCentroid(lst, (8.5,1.5)) )"
   ]
  },
  {
   "cell_type": "code",
   "execution_count": 145,
   "metadata": {
    "collapsed": false
   },
   "outputs": [
    {
     "name": "stdout",
     "output_type": "stream",
     "text": [
      "[[ 0.          0.          0.          3.14159274  3.14159274  3.14159274\n",
      "   0.          3.14159274  3.14159274  3.14159274  3.14159274  3.14159274\n",
      "   3.14159274  3.14159274  3.14159274  0.        ]\n",
      " [ 4.71238899  6.18719912  5.44392872  3.97764516  4.37002087  4.60391951\n",
      "   4.65160561  4.54606247  4.3905735   4.32352448  4.40216064  4.38202333\n",
      "   4.18386459  4.05508327  3.99474263  4.71238899]\n",
      " [ 4.71238899  5.89623213  4.9416399   4.15816498  4.39496088  4.50773954\n",
      "   4.55149508  4.5316906   4.43789816  4.41205215  4.49315739  4.48998308\n",
      "   4.39644098  4.3301158   4.28186178  4.71238899]\n",
      " [ 4.71238899  5.43676472  4.93723869  4.36754322  4.42903376  4.35820055\n",
      "   4.43404484  4.49093485  4.39929771  4.41892958  4.49052238  4.50454092\n",
      "   4.49613857  4.47375584  4.45219994  4.71238899]\n",
      " [ 4.71238899  5.05407667  5.09052467  4.65981579  4.49246025  4.29191589\n",
      "   4.33813953  4.4277091   4.3746233   4.39486694  4.44318199  4.47800112\n",
      "   4.5250206   4.50698566  4.46738338  4.71238899]\n",
      " [ 4.71238899  4.67182922  5.16358471  4.90302992  4.59997606  4.36704016\n",
      "   4.33301115  4.42559481  4.44493961  4.43683529  4.41105747  4.41038179\n",
      "   4.48557234  4.2405839   3.83052158  4.71238899]\n",
      " [ 4.71238899  4.25642014  5.11224508  4.96673155  4.6746788   4.39448881\n",
      "   4.31825399  4.46445513  4.63846302  4.77722073  5.8782196   1.39612734\n",
      "   1.48243332  1.66936266  1.70209932  1.57079637]\n",
      " [ 4.71238899  3.82389188  4.97620535  4.95515108  4.72504377  4.37302494\n",
      "   4.24870539  4.73869371  5.8782196   0.27420959  0.74013102  1.01228607\n",
      "   1.30090725  1.55119503  1.5385561   1.57079637]\n",
      " [ 4.71238899  3.44392157  3.86053157  4.56532049  4.78368378  4.43180704\n",
      "   3.86469364  6.06911278  5.83247614  5.52840281  5.13068199  4.87896681\n",
      "   4.75850105  4.75646973  4.77894497  4.71238899]\n",
      " [ 4.71238899  3.08711147  2.83865118  2.94419217  1.24898076  0.32181564\n",
      "   3.72947526  4.75235987  5.05343962  4.97709608  4.81688786  4.71238899\n",
      "   4.67331076  4.71762371  4.75276279  4.71238899]\n",
      " [ 4.71238899  3.61411619  3.7470088   3.80255985  1.24898076  4.20530748\n",
      "   4.15056086  4.28569651  4.63149786  4.78203106  4.73365784  4.53074121\n",
      "   4.42628908  4.60174561  4.76318312  4.71238899]\n",
      " [ 4.71238899  4.13249922  4.02666569  4.80303478  4.74685144  4.13112307\n",
      "   4.22789812  4.37133837  4.48557234  4.79551697  4.86898279  4.21844673\n",
      "   3.5221765   2.55370998  2.03447986  1.57079637]\n",
      " [ 1.57079637  1.86340976  1.83344138  1.58202934  1.63735259  1.90081167\n",
      "   1.78810298  1.73593903  1.84914029  1.70510578  1.61837006  2.03447986\n",
      "   1.73593903  1.84914029  1.93804729  1.57079637]\n",
      " [ 1.57079637  1.6200223   1.62517357  1.61726522  1.6126796   1.62462616\n",
      "   1.62430644  1.66368186  1.69761562  1.65362525  1.63632751  1.63680398\n",
      "   1.5926224   1.60245347  1.62238371  1.57079637]\n",
      " [ 1.57079637  1.58965802  1.60742176  1.61959124  1.61667335  1.60385644\n",
      "   1.62417042  1.67473185  1.66947043  1.63009799  1.63393259  1.63452804\n",
      "   1.60195494  1.59494114  1.61444926  1.57079637]\n",
      " [ 0.          0.          3.14159274  3.14159274  3.14159274  3.14159274\n",
      "   3.14159274  3.14159274  3.14159274  3.14159274  3.14159274  3.14159274\n",
      "   3.14159274  3.14159274  3.14159274  0.        ]]\n"
     ]
    }
   ],
   "source": [
    "# Python implementation of HOG based on OpenCV\n",
    "def histoGrad(img, binCount=12, cellSize=4, fname='fault'):\n",
    "    gx= cv2.Sobel(img, cv2.CV_32F, 1, 0)\n",
    "    gy= cv2.Sobel(img, cv2.CV_32F, 0, 1)\n",
    "    magnitude,angle= cv2.cartToPolar(gx,gy)\n",
    "    bins= np.int32(binCount*angle*(1-1e-7)/(2*np.pi))\n",
    "    print(angle)\n",
    "    binCells, magCells= [], []\n",
    "    cx= cy= cellSize\n",
    "    for i in range(0,int(img.shape[0]/cy)):\n",
    "        for j in range(0,int(img.shape[1]/cx)):\n",
    "            binCells.append(bins[i*cy:i*cy+cy, j*cx:j*cx+cx])\n",
    "            magCells.append(magnitude[i*cy:i*cy+cy, j*cx:j*cx+cx])\n",
    "    #print(len(binCells), len(magCells))\n",
    "    #print(list(zip(binCells, magCells)))\n",
    "    hists= [np.bincount(i.ravel(), j.ravel(), binCount) for i,j in zip(binCells, magCells)]\n",
    "    #print(hists)\n",
    "    hist= np.hstack(hists)\n",
    "    if len(hist)==193:\n",
    "        hist= hist[0:192]\n",
    "        print(fname)\n",
    "    hist/= hist.sum()+1e-8 # apply Hellinger kernel (L1-normalize and sqrt)\n",
    "    hist= np.sqrt(hist)\n",
    "    return hist\n",
    "\n",
    "img2= cv2.imread('training/vehicles/JWD_vcells/700.PNG')\n",
    "#print( histoGrad(img2[:,:,0])[:10] )\n",
    "myhist= histoGrad(img2[:,:,0])\n",
    "\n",
    "#[ 0.09165663  0.          0.          0.          0.          0.       0.03250726  0.07824319  0.07127868  0.12797922]\n",
    "#[ 0.09165664  0.          0.          0.          0.          0.       0.03250726  0.0782432   0.07127869  0.12797923]"
   ]
  },
  {
   "cell_type": "code",
   "execution_count": 15,
   "metadata": {
    "collapsed": false
   },
   "outputs": [
    {
     "name": "stdout",
     "output_type": "stream",
     "text": [
      "0.999999999997\n"
     ]
    },
    {
     "data": {
      "text/plain": [
       "5.9515730336235935"
      ]
     },
     "execution_count": 15,
     "metadata": {},
     "output_type": "execute_result"
    }
   ],
   "source": [
    "sum(histoGrad(img2[:,:,0]))"
   ]
  },
  {
   "cell_type": "code",
   "execution_count": 18,
   "metadata": {
    "collapsed": false
   },
   "outputs": [
    {
     "data": {
      "text/plain": [
       "5.9515724384742112"
      ]
     },
     "execution_count": 18,
     "metadata": {},
     "output_type": "execute_result"
    }
   ],
   "source": [
    "sum(histoGrad(img2[:,:,0]))"
   ]
  },
  {
   "cell_type": "code",
   "execution_count": 156,
   "metadata": {
    "collapsed": false
   },
   "outputs": [
    {
     "name": "stdout",
     "output_type": "stream",
     "text": [
      "[ 0.  0.  0.  0.  0.  0.  0.  0.  0.  0.]\n",
      "[ 0.  0.  0.  0.  0.  0.  0.  0.  0.  0.]\n"
     ]
    }
   ],
   "source": [
    "hist= np.array([0., 0., 0., 0., 0., 0., 0., 0., 0., 0.])\n",
    "#hist /= hist.sum() + 1e-7\n",
    "print (hist/(hist.sum() + 1e-7))\n",
    "hist= np.array([0., 0., 0., 0., 0., 0., 0., 0., 0., 0.])\n",
    "hist /= (hist.sum() + 1e-7) \n",
    "print (hist)"
   ]
  },
  {
   "cell_type": "code",
   "execution_count": 45,
   "metadata": {
    "collapsed": false
   },
   "outputs": [
    {
     "name": "stdout",
     "output_type": "stream",
     "text": [
      "<generator object <genexpr> at 0x000001994148CBA0>\n"
     ]
    }
   ],
   "source": [
    "print( (i,j) for i,j in zip(hist))"
   ]
  },
  {
   "cell_type": "code",
   "execution_count": 142,
   "metadata": {
    "collapsed": false
   },
   "outputs": [],
   "source": [
    "vimages = glob.glob('training/vehicles/JWD_vcells/*.png')\n",
    "for image in vimages:\n",
    "    img2= mpimg.imread(image)\n",
    "    fimage= cv2.cvtColor(img2, cv2.COLOR_RGB2YCrCb)\n",
    "    for channel in range(fimage.shape[2]):\n",
    "        myhist= histoGrad(fimage[:,:,channel], fname=image)"
   ]
  },
  {
   "cell_type": "code",
   "execution_count": 143,
   "metadata": {
    "collapsed": false
   },
   "outputs": [
    {
     "name": "stdout",
     "output_type": "stream",
     "text": [
      "(16, 16, 3)\n"
     ]
    }
   ],
   "source": [
    "img2= mpimg.imread('training/vehicles/JWD_vcells/61-1014-532.PNG')\n",
    "fimage= cv2.cvtColor(img2, cv2.COLOR_RGB2YCrCb)\n",
    "print(fimage.shape)"
   ]
  },
  {
   "cell_type": "code",
   "execution_count": 146,
   "metadata": {
    "collapsed": false,
    "scrolled": false
   },
   "outputs": [
    {
     "name": "stdout",
     "output_type": "stream",
     "text": [
      "[ 0.0728      0.50401515  0.52087021]\n",
      "[[ 0.          3.14159274  3.14159274  3.14159274  3.14159274  3.14159274\n",
      "   3.14159274  3.14159274  3.14159274  0.          0.          3.14159274\n",
      "   0.          0.          0.          0.        ]\n",
      " [ 1.57079637  2.1042695   1.94992685  1.68124735  1.71910226  1.82815325\n",
      "   1.74546528  1.88378215  1.89191985  0.78643435  1.11066616  1.91922379\n",
      "   1.12646139  0.60441834  0.57090032  1.57079637]\n",
      " [ 4.71238899  0.68446016  1.38967907  1.67150486  1.77808666  1.97576177\n",
      "   2.00748181  2.0276618   1.91704881  1.22373843  1.02419317  1.48820281\n",
      "   1.31441915  0.63171071  6.26012754  4.71238899]\n",
      " [ 4.71238899  5.34571218  5.37373829  5.68765926  1.09125829  1.48875332\n",
      "   1.64409125  1.62946701  1.61827826  1.51362181  1.40500379  1.48031664\n",
      "   1.6212647   1.75829995  2.98289084  4.71238899]\n",
      " [ 4.71238899  5.12962437  4.99639034  5.0162406   5.57970333  0.11236435\n",
      "   1.18258107  1.42924666  1.55103827  1.5924226   1.59479713  1.86734784\n",
      "   3.09488797  3.62006402  3.70411992  4.71238899]\n",
      " [ 4.71238899  5.14738369  4.97075796  5.03722143  5.26738214  5.21870375\n",
      "   5.13315678  5.08412981  4.92382908  4.59860182  4.29828978  4.2749958\n",
      "   4.34173393  4.34901857  4.05866528  4.71238899]\n",
      " [ 1.57079637  0.96426618  0.45853171  5.38717556  5.26649332  5.07016897\n",
      "   4.97136259  4.91053629  4.84894037  4.74155331  4.56083679  4.40468168\n",
      "   4.31734991  4.70107412  0.62496626  1.57079637]\n",
      " [ 1.57079637  1.87890816  1.82342696  2.68061447  2.16966105  5.77305126\n",
      "   5.49008226  5.27518177  5.07747269  4.91608572  4.87384272  4.89728212\n",
      "   4.85659552  5.04109287  5.18616438  4.71238899]\n",
      " [ 1.57079637  1.85538566  1.96718585  2.18779397  2.12824965  1.66669083\n",
      "   6.28318548  5.45323181  4.78737736  4.84146214  5.14516592  5.02826452\n",
      "   4.88532591  4.97736025  5.03012228  4.71238899]\n",
      " [ 1.57079637  1.83598697  1.86202335  1.93306375  1.97994685  2.0697701\n",
      "   2.16308355  2.31944513  4.00039244  3.65806913  4.85427523  5.04714775\n",
      "   4.97382545  5.08601904  5.02162409  4.71238899]\n",
      " [ 1.57079637  1.8373034   1.86804521  1.94754827  1.94840539  1.91818333\n",
      "   1.94105911  2.04919648  2.11862373  2.12047148  2.08358169  2.24842215\n",
      "   2.35636115  6.0701375   5.35578203  4.71238899]\n",
      " [ 1.57079637  1.865955    1.9906646   2.0084343   1.95356202  1.9076103\n",
      "   1.91451526  1.95201349  1.97389472  2.03550291  2.16743994  2.29372573\n",
      "   1.95482206  1.76819658  4.71238899  4.71238899]\n",
      " [ 1.57079637  1.78375244  1.8660866   1.80535209  1.9972806   2.03396153\n",
      "   1.98927557  1.99759042  1.99584305  1.960742    1.93951631  1.9585247\n",
      "   1.99972451  2.09335995  2.09869862  1.57079637]\n",
      " [ 1.57079637  1.6650337   1.89860392  1.50429034  1.77613664  2.24215651\n",
      "   2.52668571  2.34113646  2.08335543  1.96138668  1.93310201  1.91621506\n",
      "   1.8720715   1.87345254  1.90813839  1.57079637]\n",
      " [ 4.71238899  4.71238899  6.02418375  0.47993079  1.19857407  2.4147594\n",
      "   2.5708735   2.36949921  2.13986564  2.15633512  2.02475381  1.88859487\n",
      "   1.85165429  1.86600423  1.85675621  1.57079637]\n",
      " [ 0.          0.          0.          0.          0.          3.14159274\n",
      "   3.14159274  3.14159274  3.14159274  3.14159274  3.14159274  3.14159274\n",
      "   3.14159274  3.14159274  3.14159274  0.        ]]\n",
      "[[ 0.          3.14159274  3.14159274  3.14159274  3.14159274  0.          0.\n",
      "   0.          0.          0.          0.          0.          0.\n",
      "   3.14159274  3.14159274  0.        ]\n",
      " [ 0.          3.14159274  3.28253102  3.28299427  3.28347683  0.          0.\n",
      "   0.46369272  0.37056991  0.05371363  0.02784716  0.24500544  0.32181564\n",
      "   3.14159274  3.14159274  0.        ]\n",
      " [ 1.57079637  1.76444769  3.07696819  3.24759054  3.30238128  0.          0.\n",
      "   0.38814926  0.62780958  5.87129259  5.57019043  5.15920448  5.25562477\n",
      "   2.96303439  2.00431752  1.57079637]\n",
      " [ 4.71238899  5.92699862  2.74837899  2.62659001  2.05717707  1.75790095\n",
      "   1.96008837  3.87494349  4.27534819  4.64573908  4.8957901   4.99833345\n",
      "   5.17135811  4.70779705  0.41982853  1.57079637]\n",
      " [ 4.71238899  5.30437326  4.03925133  2.79864717  1.85564971  1.84988868\n",
      "   2.2757771   3.2514329   3.8593955   4.44286776  4.83119011  5.12206888\n",
      "   5.31900167  5.26128197  5.60408974  4.71238899]\n",
      " [ 4.71238899  5.32136726  4.96117926  4.10279703  4.5470643   3.80335617\n",
      "   2.97059846  2.78286672  2.47255564  1.73004603  1.65865076  1.48040009\n",
      "   6.0418992   6.12688971  0.07503956  1.57079637]\n",
      " [ 4.71238899  5.61057711  5.63747692  4.35454941  4.3005085   4.52536154\n",
      "   3.71993995  2.25597405  2.01554251  1.65436554  1.69757915  1.85269094\n",
      "   1.29841602  0.65273011  0.57823938  1.57079637]\n",
      " [ 1.57079637  1.48693502  5.52313757  4.2088623   4.14230585  3.37416863\n",
      "   0.42514166  1.44170618  2.4881115   2.0652442   1.44127214  1.72816777\n",
      "   1.50680518  0.99255753  0.92996919  1.57079637]\n",
      " [ 1.57079637  2.04247737  2.11884594  2.13089085  1.6436286   2.2184763\n",
      "   6.28315496  5.61388445  2.96955776  2.06502986  0.90433341  0.74017924\n",
      "   1.57079637  0.25572899  5.20937109  4.71238899]\n",
      " [ 1.57079637  2.38922596  2.08064938  1.63227355  1.54837966  1.75365114\n",
      "   1.92973411  1.64442503  1.70071495  1.86679995  1.71268344  0.10692675\n",
      "   4.71238899  5.65288162  4.12291527  4.71238899]\n",
      " [ 1.57079637  2.72563195  2.06201077  1.37536824  1.42058015  1.69021034\n",
      "   1.95508051  1.97171998  1.76264286  1.74788451  2.22424817  2.47620678\n",
      "   5.49795389  0.23653969  2.21419692  1.57079637]\n",
      " [ 1.57079637  2.56065822  1.7572614   1.17324102  1.39997649  1.74882901\n",
      "   2.00962877  2.07142282  1.89908838  1.82908618  2.37442017  2.52218866\n",
      "   1.72386897  4.90975332  4.71238899  4.71238899]\n",
      " [ 1.57079637  2.2470963   1.49804103  1.22596872  1.77812088  2.30978155\n",
      "   2.05281019  1.90261555  1.93576205  2.05507565  2.31134677  2.25800967\n",
      "   2.11884785  2.66365838  4.2033639   4.71238899]\n",
      " [ 1.57079637  2.23401737  0.83984822  1.5039022   2.21569443  2.27462602\n",
      "   1.69287801  1.26472592  2.03739524  2.26531839  2.3277092   2.33986163\n",
      "   2.24766064  2.15244269  2.0877111   1.57079637]\n",
      " [ 0.          0.          6.17432785  3.92682409  3.14159274  2.24728799\n",
      "   1.66898942  1.27904224  1.96586156  2.29102802  2.4296174   2.35602665\n",
      "   2.12205791  1.99286211  2.00431585  1.57079637]\n",
      " [ 0.          0.          0.          3.14159274  3.14159274  0.          0.\n",
      "   0.          3.14159274  3.14159274  3.14159274  3.14159274  3.14159274\n",
      "   3.14159274  3.14159274  0.        ]]\n",
      "[[ 0.          0.          3.14159274  3.14159274  0.          0.          0.\n",
      "   3.14159274  0.          0.          3.14159274  3.14159274  3.14159274\n",
      "   0.          0.          0.        ]\n",
      " [ 0.          0.          3.10397577  3.03971386  0.14189878  0.          0.\n",
      "   3.60526395  5.03233194  6.07135868  3.91474032  3.38660526  3.46339917\n",
      "   0.          0.          0.        ]\n",
      " [ 4.71238899  5.39699173  3.60776782  3.53516555  6.04146481  0.          0.\n",
      "   2.77546215  0.97114295  0.69578195  1.83305538  2.20309925  1.91414523\n",
      "   1.56613648  0.97860634  1.57079637]\n",
      " [ 4.71238899  4.79742813  4.54398012  4.68741703  5.36416769  5.4924407\n",
      "   0.7824198   1.36434782  1.16219342  1.11365652  1.70066953  1.88367128\n",
      "   1.8929832   1.93156385  1.3052721   1.57079637]\n",
      " [ 4.71238899  4.72862625  4.79089212  4.98332739  5.10290766  5.55321503\n",
      "   0.15893516  0.75641203  0.89806348  1.05711341  1.82757044  2.22241545\n",
      "   2.18529034  2.29127169  1.9645468   1.57079637]\n",
      " [ 4.71238899  4.68011856  4.88693237  5.04932928  5.15407372  5.48463106\n",
      "   5.54737425  5.51823807  5.58849955  5.20837545  4.33341265  4.15877438\n",
      "   4.29673147  3.74358654  3.6797688   4.71238899]\n",
      " [ 1.57079637  1.53470147  1.57248724  5.04173708  5.40817404  5.4984827\n",
      "   5.26837492  5.15031481  5.13391209  4.92326641  4.56551981  4.51610184\n",
      "   4.69912577  4.61040163  4.5771718   4.71238899]\n",
      " [ 1.57079637  1.61428547  1.90425766  2.18442464  1.32523823  5.87089157\n",
      "   5.26348495  5.02032709  5.00426722  4.95928049  4.75649405  4.66829443\n",
      "   4.73601007  4.84301376  5.0160985   4.71238899]\n",
      " [ 1.57079637  1.73492861  2.00734591  2.18391037  1.9077493   1.40489757\n",
      "   3.14159274  4.50276709  4.85493708  5.02009916  4.8974328   4.75294209\n",
      "   4.71238899  4.86552572  5.08542395  4.71238899]\n",
      " [ 1.57079637  1.49959326  2.14526463  2.28656793  2.01116467  1.70027721\n",
      "   2.2606113   2.64089799  2.87818122  4.93129206  4.8542757   4.74919748\n",
      "   4.71238899  4.99055719  5.23354769  4.71238899]\n",
      " [ 4.71238899  5.32907248  4.18291187  2.36284709  1.96681774  1.6902113\n",
      "   2.18114591  2.20582008  2.05228066  2.01122141  1.89167762  2.06405163\n",
      "   2.35637617  5.74174833  5.35578203  4.71238899]\n",
      " [ 4.71238899  5.59340334  5.12877417  5.99908543  1.9442544   1.61752176\n",
      "   2.19172859  2.062572    2.01625323  1.96017551  1.83582234  2.00675559\n",
      "   2.00762033  1.76819777  1.57079637  4.71238899]\n",
      " [ 1.57079637  6.00030088  4.81076193  5.23188591  4.94917583  5.25347328\n",
      "   1.76531172  1.83112454  2.04304504  1.93100011  1.81779492  1.978742\n",
      "   2.00734591  1.99697804  1.93318367  1.57079637]\n",
      " [ 4.71238899  5.0936079   4.07581091  5.10263062  5.26227522  5.21993303\n",
      "   5.116714    4.8531599   4.2979269   1.96918428  1.8279326   1.9641701\n",
      "   1.96398258  2.10648227  1.93785501  1.57079637]\n",
      " [ 0.          0.          2.85042024  0.78556973  0.          5.20666885\n",
      "   4.93899775  4.77074957  4.82980061  5.23207188  5.10723209  5.49795389\n",
      "   1.97446454  2.22937751  2.01960921  1.57079637]\n",
      " [ 0.          0.          3.14159274  0.          0.          0.          0.\n",
      "   0.          0.          0.          0.          0.          0.\n",
      "   3.14159274  3.14159274  0.        ]]\n"
     ]
    }
   ],
   "source": [
    "print(fimage[0,0])\n",
    "for channel in range(fimage.shape[2]):\n",
    "    myhist= histoGrad(fimage[:,:,channel])"
   ]
  },
  {
   "cell_type": "code",
   "execution_count": 100,
   "metadata": {
    "collapsed": false
   },
   "outputs": [
    {
     "data": {
      "image/png": "[encoded data removed]",
      "text/plain": [
       "<matplotlib.figure.Figure at 0x19942b8e780>"
      ]
     },
     "metadata": {},
     "output_type": "display_data"
    }
   ],
   "source": [
    "plt.imshow(fimage)\n",
    "plt.show()"
   ]
  },
  {
   "cell_type": "code",
   "execution_count": 119,
   "metadata": {
    "collapsed": true
   },
   "outputs": [],
   "source": [
    "x=[np.array([ 0.        ,  0.05740977,  0.10981189,  0.26433566,  0.02732746,\n",
    "        0.        ,  0.07629805,  0.        ,  0.        ,  0.25484702,\n",
    "        0.40318589,  0.        ]), \n",
    "   np.array([ 0.        ,  0.        ,  0.4209156 ,  1.34009632,  0.        ,\n",
    "        0.        ,  0.04164705,  0.        ,  0.        ,  0.        ,\n",
    "        0.        ,  0.        ]), \n",
    "   np.array([ 0.03746666,  0.09320346,  1.48847115,  0.51790471,  0.        ,\n",
    "        0.        ,  0.02386666,  0.        ,  0.        ,  0.        ,\n",
    "        0.        ,  0.        ]), \n",
    "   np.array([ 0.23512159,  0.40555992,  0.14375959,  0.86044762,  0.        ,\n",
    "        0.10582807,  0.        ,  0.        ,  0.        ,  0.17856467,\n",
    "        0.        ,  0.08876871]), \n",
    "   np.array([ 0.00442134,  0.00489744,  0.        ,  0.07923554,  0.        ,\n",
    "        0.00841992,  0.        ,  0.        ,  0.        ,  2.09209207,\n",
    "        0.03578462,  0.        ]), \n",
    "   np.array([  2.37060040e-01,   0.00000000e+00,   8.91748637e-01,\n",
    "         0.00000000e+00,   1.28676475e-03,   0.00000000e+00,\n",
    "         0.00000000e+00,   0.00000000e+00,   0.00000000e+00,\n",
    "         3.83230358e+00,   1.12357363e+00,   6.97881635e-03]), \n",
    "   np.array([ 0.        ,  0.        ,  0.68445921,  1.41112117,  0.        ,\n",
    "        0.        ,  0.        ,  0.        ,  2.6818729 ,  3.24909534,\n",
    "        0.        ,  0.        ]), \n",
    "   np.array([ 0.        ,  0.00583707,  0.        ,  0.03192943,  0.        ,\n",
    "        0.1604849 ,  0.253647  ,  0.50664485,  1.28004704,  0.76066794,\n",
    "        0.        ,  0.        ]), \n",
    "   np.array([ 0.        ,  0.        ,  0.        ,  8.91285907,  0.120569  ,\n",
    "        0.        ,  0.        ,  0.        ,  0.        ,  0.        ,\n",
    "        0.        ,  0.        ]), \n",
    "   np.array([  0.00000000e+00,   0.00000000e+00,   0.00000000e+00,                   # <------------- problem 13 elements\n",
    "         7.04978541e+00,   1.00795419e-01,   0.00000000e+00,\n",
    "         0.00000000e+00,   0.00000000e+00,   0.00000000e+00,\n",
    "         0.00000000e+00,   1.20356176e-02,   0.00000000e+00,\n",
    "         2.34509818e-03]), \n",
    "   np.array([ 0.        ,  0.        ,  0.        ,  1.09371275,  0.34154844,\n",
    "        0.        ,  0.00534421,  0.00453217,  0.        ,  0.2677984 ,\n",
    "        0.        ,  0.        ]), \n",
    "   np.array([  0.00000000e+00,   0.00000000e+00,   0.00000000e+00,\n",
    "         1.13772310e-02,   6.32236712e-04,   0.00000000e+00,\n",
    "         0.00000000e+00,   0.00000000e+00,   0.00000000e+00,\n",
    "         1.10250153e+00,   4.47058864e-03,   4.22893511e-03]), \n",
    "   np.array([ 0.10107597,  0.        ,  0.05127015,  0.40661669,  0.        ,\n",
    "        0.        ,  0.        ,  0.        ,  0.        ,  0.01568627,\n",
    "        0.        ,  0.01182166]), \n",
    "   np.array([ 0.03316075,  0.        ,  0.05051671,  1.99566305,  0.86572638,\n",
    "        0.        ,  0.29019606,  0.        ,  0.        ,  0.        ,\n",
    "        0.        ,  0.        ]), \n",
    "   np.array([ 0.        ,  0.        ,  0.        ,  7.116294  ,  0.2499977 ,\n",
    "        0.        ,  0.14447051,  0.        ,  0.        ,  0.        ,\n",
    "        0.        ,  0.        ]), \n",
    "   np.array([ 0.        ,  0.        ,  0.        ,  6.46936287,  0.02923101,\n",
    "        0.        ,  0.68200797,  0.        ,  0.        ,  0.        ,\n",
    "        0.        ,  0.        ])]\n"
   ]
  },
  {
   "cell_type": "code",
   "execution_count": 124,
   "metadata": {
    "collapsed": false
   },
   "outputs": [
    {
     "name": "stdout",
     "output_type": "stream",
     "text": [
      "(12,)\n",
      "(12,)\n",
      "(12,)\n",
      "(12,)\n",
      "(12,)\n",
      "(12,)\n",
      "(12,)\n",
      "(12,)\n",
      "(12,)\n",
      "(13,)\n",
      "(12,)\n",
      "(12,)\n",
      "(12,)\n",
      "(12,)\n",
      "(12,)\n",
      "(12,)\n"
     ]
    }
   ],
   "source": [
    "for i in x: print(i.shape)"
   ]
  },
  {
   "cell_type": "code",
   "execution_count": null,
   "metadata": {
    "collapsed": true
   },
   "outputs": [],
   "source": [
    "[(array([[ 0,  6,  6,  6],\n",
    "       [ 3,  4,  3,  3],\n",
    "       [ 9,  1,  2,  3],\n",
    "       [ 9, 10, 10, 10]]), array([[ 0.        ,  0.02174118,  0.03827452,  0.01628235],\n",
    "       [ 0.01568627,  0.02732746,  0.05361361,  0.07655288],\n",
    "       [ 0.01423526,  0.05740977,  0.10981189,  0.1184829 ],\n",
    "       [ 0.24061176,  0.24008824,  0.13351713,  0.02958052]], dtype=float32)), \n",
    " \n",
    " (array([[6, 6, 6, 6],\n",
    "       [3, 3, 3, 3],\n",
    "       [3, 3, 3, 3],\n",
    "       [2, 2, 3, 3]]), array([[ 0.00938038,  0.01568627,  0.00784314,  0.00873726],\n",
    "       [ 0.08208155,  0.0770466 ,  0.06769677,  0.05676446],\n",
    "       [ 0.10253605,  0.08959732,  0.0649135 ,  0.05473847],\n",
    "       [ 0.13724345,  0.28367215,  0.3663919 ,  0.37832969]], dtype=float32)), \n",
    " \n",
    " (array([[6, 0, 0, 6],\n",
    "       [3, 1, 2, 3],\n",
    "       [3, 2, 1, 2],\n",
    "       [3, 2, 2, 2]]), array([[ 0.00460392,  0.02953725,  0.00792941,  0.01926274],\n",
    "       [ 0.03944292,  0.03752382,  0.03451458,  0.04494255],\n",
    "       [ 0.05584636,  0.05062494,  0.05567963,  0.07133739],\n",
    "       [ 0.37767288,  0.38883558,  0.44360083,  0.49955782]], dtype=float32)), \n",
    " \n",
    " (array([[ 0,  0,  0,  0],\n",
    "       [ 2,  1,  1,  3],\n",
    "       [ 2,  1, 11,  9],\n",
    "       [ 3,  3,  5,  9]]), array([[ 0.02174118,  0.07689411,  0.13648629,  0.        ],\n",
    "       [ 0.0516234 ,  0.11729055,  0.16688228,  0.09411764],\n",
    "       [ 0.09213619,  0.12138709,  0.08876871,  0.05763131],\n",
    "       [ 0.47215828,  0.29417169,  0.10582807,  0.12093335]], dtype=float32)), \n",
    " \n",
    " (array([[ 9,  9,  9,  9],\n",
    "       [ 9,  9,  9,  9],\n",
    "       [ 3,  1,  0, 10],\n",
    "       [ 3,  3,  3,  5]]), array([[ 0.27607062,  0.35264665,  0.39657491,  0.37088957],\n",
    "       [ 0.05932549,  0.11735339,  0.20672254,  0.31250888],\n",
    "       [ 0.00357647,  0.00489744,  0.00442134,  0.03578462],\n",
    "       [ 0.03758431,  0.027342  ,  0.01073275,  0.00841992]], dtype=float32)), \n",
    " \n",
    " (array([[10,  0,  2,  2],\n",
    "       [10,  9,  9,  9],\n",
    "       [10,  9,  9,  9],\n",
    "       [ 4, 11, 10, 10]]), array([[ 0.33283666,  0.23706004,  0.33453956,  0.55720907],\n",
    "       [ 0.50829172,  0.65860367,  0.68256879,  0.61124712],\n",
    "       [ 0.17243633,  0.38790631,  0.63679415,  0.85518354],\n",
    "       [ 0.00128676,  0.00697882,  0.03109698,  0.07891195]], dtype=float32)), \n",
    " \n",
    " (array([[2, 3, 3, 3],\n",
    "       [9, 8, 8, 8],\n",
    "       [9, 9, 8, 8],\n",
    "       [9, 9, 9, 9]]), array([[ 0.68445921,  0.66830552,  0.49715114,  0.24566452],\n",
    "       [ 0.48195171,  0.40111613,  0.48039362,  0.59560531],\n",
    "       [ 0.96867365,  0.92936027,  0.74235708,  0.46240076],\n",
    "       [ 0.1577282 ,  0.23756211,  0.25679493,  0.21702448]], dtype=float32)), \n",
    " \n",
    " (array([[5, 6, 7, 9],\n",
    "       [8, 8, 7, 9],\n",
    "       [8, 8, 1, 3],\n",
    "       [9, 9, 9, 9]]), array([[ 0.1604849 ,  0.253647  ,  0.28701279,  0.15370986],\n",
    "       [ 0.58296067,  0.42245543,  0.21963206,  0.06453332],\n",
    "       [ 0.21087   ,  0.06376095,  0.00583707,  0.03192943],\n",
    "       [ 0.17498916,  0.15524548,  0.12481757,  0.08737254]], dtype=float32)), \n",
    " \n",
    " (array([[3, 3, 3, 4],\n",
    "       [3, 3, 3, 3],\n",
    "       [3, 3, 3, 3],\n",
    "       [3, 3, 3, 3]]), array([[ 0.60536474,  0.50397444,  0.28190112,  0.120569  ],\n",
    "       [ 0.97370195,  1.00792253,  0.94982421,  0.75806338],\n",
    "       [ 0.47865105,  0.60567427,  0.82023215,  0.99120826],\n",
    "       [ 0.12839222,  0.14606726,  0.22485779,  0.4370237 ]], dtype=float32)), \n",
    " \n",
    " (array([[ 4,  3, 12, 10],        # <-----------------------------problem: contains a '12', perhaps should be a '0'\n",
    "       [ 3,  3,  4,  4],\n",
    "       [ 3,  3,  3,  3],\n",
    "       [ 3,  3,  3,  3]]), array([[ 0.02867608,  0.00757599,  0.0023451 ,  0.01203562],\n",
    "       [ 0.45559615,  0.19863945,  0.06144724,  0.0106721 ],\n",
    "       [ 0.99970371,  0.84381515,  0.58655256,  0.31106469],\n",
    "       [ 0.71954715,  0.93420213,  1.03178489,  0.96130353]], dtype=float32)), \n",
    " \n",
    " (array([[9, 9, 9, 9],\n",
    "       [7, 6, 9, 9],\n",
    "       [4, 4, 3, 4],\n",
    "       [3, 3, 4, 4]]), array([[ 0.01732321,  0.03125613,  0.07196216,  0.12406516],\n",
    "       [ 0.00453217,  0.00534421,  0.00632237,  0.01686938],\n",
    "       [ 0.1123475 ,  0.03213956,  0.01320437,  0.00587951],\n",
    "       [ 0.69865966,  0.38184872,  0.15075047,  0.0404314 ]], dtype=float32)), \n",
    " \n",
    " (array([[ 9,  9,  9,  9],\n",
    "       [ 9,  9,  9,  9],\n",
    "       [ 4, 11, 10,  9],\n",
    "       [ 3,  3,  9,  9]]), array([[ 0.15952474,  0.18842112,  0.21819153,  0.21976472],\n",
    "       [ 0.03034863,  0.05676152,  0.09881474,  0.1197255 ],\n",
    "       [ 0.00063224,  0.00422894,  0.00447059,  0.00536471],\n",
    "       [ 0.00909767,  0.00227956,  0.0023451 ,  0.00323922]], dtype=float32)),\n",
    " \n",
    " (array([[ 3,  3,  3,  3],\n",
    "       [ 3,  3,  3,  2],\n",
    "       [ 9,  9, 11,  0],\n",
    "       [ 0,  0,  0,  0]]), array([[ 0.0604862 ,  0.07706217,  0.10225552,  0.12813143],\n",
    "       [ 0.00694895,  0.00770867,  0.02402374,  0.05127015],\n",
    "       [ 0.00784314,  0.00784314,  0.01182166,  0.03687986],\n",
    "       [ 0.        ,  0.        ,  0.01624316,  0.04795295]], dtype=float32)), \n",
    " \n",
    " (array([[3, 3, 3, 3],\n",
    "       [3, 4, 4, 4],\n",
    "       [2, 4, 4, 4],\n",
    "       [0, 6, 6, 6]]), array([[ 0.20926023,  0.34821457,  0.54736716,  0.80205852],\n",
    "       [ 0.08876258,  0.13516083,  0.15145583,  0.20371996],\n",
    "       [ 0.05051671,  0.10531563,  0.1573928 ,  0.11268132],\n",
    "       [ 0.03316075,  0.07058823,  0.12549019,  0.09411764]], dtype=float32)), \n",
    " \n",
    " (array([[3, 3, 3, 3],\n",
    "       [3, 3, 3, 3],\n",
    "       [4, 4, 3, 3],\n",
    "       [6, 6, 6, 6]]), array([[ 0.96679169,  0.9414643 ,  0.76208103,  0.49247956],\n",
    "       [ 0.42901075,  0.71234769,  0.91504472,  0.97472161],\n",
    "       [ 0.08866442,  0.16133328,  0.33183768,  0.59051496],\n",
    "       [ 0.03832155,  0.03887841,  0.03201565,  0.0352549 ]], dtype=float32)), \n",
    " \n",
    " (array([[3, 3, 4, 3],\n",
    "       [3, 3, 3, 3],\n",
    "       [3, 3, 3, 3],\n",
    "       [6, 6, 6, 0]]), array([[ 0.24282601,  0.09512889,  0.02923101,  0.01141961],\n",
    "       [ 0.88638353,  0.69486117,  0.45160782,  0.30527845],\n",
    "       [ 0.84017599,  0.98397762,  1.00596261,  0.95174116],\n",
    "       [ 0.13576481,  0.24914515,  0.29709801,  0.        ]], dtype=float32))]"
   ]
  },
  {
   "cell_type": "code",
   "execution_count": 137,
   "metadata": {
    "collapsed": false
   },
   "outputs": [
    {
     "name": "stdout",
     "output_type": "stream",
     "text": [
      "12\n"
     ]
    }
   ],
   "source": [
    "print(np.int32(12*6.28318548/(2*np.pi)))"
   ]
  },
  {
   "cell_type": "code",
   "execution_count": 149,
   "metadata": {
    "collapsed": false
   },
   "outputs": [
    {
     "data": {
      "text/plain": [
       "11.9999988"
      ]
     },
     "execution_count": 149,
     "metadata": {},
     "output_type": "execute_result"
    }
   ],
   "source": [
    "12*2*np.pi*(1-1e-7)/(2*np.pi)"
   ]
  },
  {
   "cell_type": "code",
   "execution_count": 153,
   "metadata": {
    "collapsed": false
   },
   "outputs": [
    {
     "data": {
      "text/plain": [
       "11"
      ]
     },
     "execution_count": 153,
     "metadata": {},
     "output_type": "execute_result"
    }
   ],
   "source": [
    "np.int32(12*2*np.pi*(1-1e-7)/(2*np.pi))"
   ]
  },
  {
   "cell_type": "code",
   "execution_count": 24,
   "metadata": {
    "collapsed": false
   },
   "outputs": [],
   "source": [
    "class NQ():\n",
    "    def __init__(self,qlen,shape,dtype=np.uint8):\n",
    "        self.data= np.empty(shape=shape,dtype=dtype)\n",
    "        self.qlen= qlen\n",
    "    def put(self,a):\n",
    "        self.data= np.append(self.data,a, axis=0)\n",
    "        if len(self.data)>self.qlen: self.drop()\n",
    "    def peek(self):\n",
    "        return self.data[len(self.data)-1]\n",
    "    def drop(self):\n",
    "        self.data= np.delete(self.data, 0, axis=0)\n",
    "    def getAvg(self):\n",
    "        newList= np.copy(self.data[0])\n",
    "        newList[:]= np.sum(self.data[:], axis=0)/float(len(self.data))\n",
    "        return newList\n",
    "\n",
    "centerQ= NQ(4,(0,2),np.float)\n",
    "c= (15.,2.)\n",
    "centerQ.put([ np.array(c) ])\n",
    "c= (17.,4.)\n"
   ]
  },
  {
   "cell_type": "code",
   "execution_count": 26,
   "metadata": {
    "collapsed": false
   },
   "outputs": [
    {
     "data": {
      "text/plain": [
       "array([ 16.,   3.])"
      ]
     },
     "execution_count": 26,
     "metadata": {},
     "output_type": "execute_result"
    }
   ],
   "source": [
    "centerQ.put([ np.array(c) ])\n",
    "centerQ.getAvg()"
   ]
  },
  {
   "cell_type": "code",
   "execution_count": 41,
   "metadata": {
    "collapsed": false
   },
   "outputs": [
    {
     "name": "stdout",
     "output_type": "stream",
     "text": [
      "[[ 438.0000002   28.       ]\n",
      " [ 192.0000002   41.       ]\n",
      " [  20.         155.       ]\n",
      " [  20.         258.       ]\n",
      " [ 302.         371.       ]\n",
      " [ 620.         353.       ]\n",
      " [ 620.         152.       ]]\n"
     ]
    },
    {
     "data": {
      "image/png": "[encoded data removed]",
      "text/plain": [
       "<matplotlib.figure.Figure at 0x219c0a74080>"
      ]
     },
     "metadata": {},
     "output_type": "display_data"
    }
   ],
   "source": [
    "pts=np.array([[0.696666667,0.07],\n",
    "[0.286666667,0.1025],\n",
    "[0,0.3875],\n",
    "[0,0.645],\n",
    "[0.47,0.9275],\n",
    "[1,0.8825],\n",
    "[1,0.38]])\n",
    "pts[:,0]= pts[:,0]*600 + 20\n",
    "pts[:,1]*=400 \n",
    "print(pts)\n",
    "img= np.zeros(shape=(400,640,3),dtype=np.uint8)\n",
    "p= cv2.polylines(img, [pts.astype(np.int32)], True, (0,255,0), 3)\n",
    "plt.imshow(p)\n",
    "plt.show()"
   ]
  },
  {
   "cell_type": "code",
   "execution_count": 47,
   "metadata": {
    "collapsed": false
   },
   "outputs": [
    {
     "data": {
      "image/png": "[encoded data removed]",
      "text/plain": [
       "<matplotlib.figure.Figure at 0x219bd3ff908>"
      ]
     },
     "metadata": {},
     "output_type": "display_data"
    }
   ],
   "source": [
    "def renderRig(img, cx,cy, width,height, clr, strokeWeight):\n",
    "    pts=np.array([[0.696666667,0.07], [0.286666667,0.1025], [0,0.3875], [0,0.645], [0.47,0.9275], [1,0.8825], [1,0.38]])\n",
    "    pts[:,0]= pts[:,0]*width  + cx-width //2\n",
    "    pts[:,1]= pts[:,1]*height + cy-height//2\n",
    "    #print(pts)\n",
    "    p= cv2.polylines(img, [pts.astype(np.int32)], True, clr, strokeWeight)\n",
    "    return p\n",
    "\n",
    "imgX= np.zeros(shape=(400,640,3),dtype=np.uint8)\n",
    "p= renderRig(imgX, 320,200, 600,400, (0,255,0), 3)\n",
    "plt.imshow(p)\n",
    "plt.show()"
   ]
  },
  {
   "cell_type": "code",
   "execution_count": 48,
   "metadata": {
    "collapsed": false
   },
   "outputs": [
    {
     "data": {
      "image/png": "[encoded data removed]",
      "text/plain": [
       "<matplotlib.figure.Figure at 0x219bd02d128>"
      ]
     },
     "metadata": {},
     "output_type": "display_data"
    }
   ],
   "source": [
    "def renderRig(img, cx,cy, width,height, clr, strokeWeight):\n",
    "    pts=np.array([[0.696666667,0.07], [0.286666667,0.1025], [0,0.3875], [0,0.645], [0.47,0.9275], [1,0.8825], [1,0.38]])\n",
    "    pts[:,0]= pts[:,0]*width  + cx-width //2\n",
    "    pts[:,1]= pts[:,1]*height + cy-height//2\n",
    "    cv2.polylines(img, [pts.astype(np.int32)], True, clr, strokeWeight)\n",
    "\n",
    "imgX= np.zeros(shape=(400,640,3),dtype=np.uint8)\n",
    "renderRig(imgX, 320,200, 600,400, (0,255,0), 3)\n",
    "plt.imshow(imgX)\n",
    "plt.show()"
   ]
  },
  {
   "cell_type": "code",
   "execution_count": 50,
   "metadata": {
    "collapsed": true
   },
   "outputs": [],
   "source": [
    "x,y= centroidQ.getAvg()"
   ]
  },
  {
   "cell_type": "code",
   "execution_count": 51,
   "metadata": {
    "collapsed": false
   },
   "outputs": [
    {
     "name": "stdout",
     "output_type": "stream",
     "text": [
      "875 458\n"
     ]
    }
   ],
   "source": [
    "print(x,y)"
   ]
  },
  {
   "cell_type": "code",
   "execution_count": null,
   "metadata": {
    "collapsed": true
   },
   "outputs": [],
   "source": []
  }
 ],
 "metadata": {
  "kernelspec": {
   "display_name": "Python 3",
   "language": "python",
   "name": "python3"
  },
  "language_info": {
   "codemirror_mode": {
    "name": "ipython",
    "version": 3
   },
   "file_extension": ".py",
   "mimetype": "text/x-python",
   "name": "python",
   "nbconvert_exporter": "python",
   "pygments_lexer": "ipython3",
   "version": "3.5.2"
  }
 },
 "nbformat": 4,
 "nbformat_minor": 2
}
